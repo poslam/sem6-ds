{
 "cells": [
  {
   "cell_type": "markdown",
   "metadata": {
    "id": "JvlhX3K4OebI"
   },
   "source": [
    "## Numpy"
   ]
  },
  {
   "cell_type": "code",
   "execution_count": 54,
   "metadata": {
    "id": "Mmt19t9FhIHl"
   },
   "outputs": [],
   "source": [
    "import numpy as np"
   ]
  },
  {
   "cell_type": "markdown",
   "metadata": {
    "id": "m30F3g7OhZ8Y"
   },
   "source": [
    "### 1) corrcoef\n",
    "Реализовать функцию расчета [коэффицента корреляции Пирсона](https://ru.wikipedia.org/wiki/%D0%9A%D0%BE%D1%80%D1%80%D0%B5%D0%BB%D1%8F%D1%86%D0%B8%D1%8F#%D0%9B%D0%B8%D0%BD%D0%B5%D0%B9%D0%BD%D1%8B%D0%B9_%D0%BA%D0%BE%D1%8D%D1%84%D1%84%D0%B8%D1%86%D0%B8%D0%B5%D0%BD%D1%82_%D0%BA%D0%BE%D1%80%D1%80%D0%B5%D0%BB%D1%8F%D1%86%D0%B8%D0%B8) для двух numpy векторов с помощью функционала numpy (без циклов)\n",
    "\n",
    "P.S. нельзя использовать функцию np.corrcoef"
   ]
  },
  {
   "cell_type": "code",
   "execution_count": 55,
   "metadata": {
    "id": "SOvbge4ROgT5"
   },
   "outputs": [],
   "source": [
    "def corrcoef(v1, v2):\n",
    "    if len(v1) != len(v2):\n",
    "        raise ValueError(\"Vectors must be of the same length.\")\n",
    "\n",
    "    v1 = np.array(v1)\n",
    "    v2 = np.array(v2)\n",
    "\n",
    "    mean_v1 = np.mean(v1)\n",
    "    mean_v2 = np.mean(v2)\n",
    "\n",
    "    numerator = np.sum((v1 - mean_v1) * (v2 - mean_v2))\n",
    "    denominator = np.sqrt(np.sum((v1 - mean_v1) ** 2) * np.sum((v2 - mean_v2) ** 2))\n",
    "\n",
    "    if denominator == 0:\n",
    "        return 0.0\n",
    "\n",
    "    return numerator / denominator"
   ]
  },
  {
   "cell_type": "code",
   "execution_count": 56,
   "metadata": {
    "colab": {
     "base_uri": "https://localhost:8080/",
     "height": 176
    },
    "id": "j3W9vrtSPLXd",
    "outputId": "403fb621-2d1d-4c2f-cf7e-760450e9866d"
   },
   "outputs": [],
   "source": [
    "# Test 1\n",
    "v1 = np.random.rand(100)\n",
    "v2 = np.random.rand(100)\n",
    "assert np.corrcoef(v1, v2)[0][1].round(8) == corrcoef(v1, v2).round(8)"
   ]
  },
  {
   "cell_type": "code",
   "execution_count": 57,
   "metadata": {
    "id": "1ZvpYF2YOdhH"
   },
   "outputs": [],
   "source": [
    "# Test 2\n",
    "v1 = np.array([1, 2, 3])\n",
    "v2 = np.array([1, 2, 3])\n",
    "assert np.corrcoef(v1, v2)[0][1].round(8) == corrcoef(v1, v2).round(8)"
   ]
  },
  {
   "cell_type": "code",
   "execution_count": 58,
   "metadata": {
    "id": "ToPuAVtiiI9k"
   },
   "outputs": [],
   "source": [
    "# Test 3\n",
    "v1 = np.random.normal(loc=0, scale=1, size=100)\n",
    "v2 = v1 + 0.2 * np.random.rand(100)\n",
    "assert np.corrcoef(v1, v2)[0][1].round(8) == corrcoef(v1, v2).round(8)"
   ]
  },
  {
   "cell_type": "markdown",
   "metadata": {
    "id": "PbTiCxtEhPyy"
   },
   "source": [
    "### 2) isna\n",
    "Реализовать функцию, которая принимает произвольный ndarray и возвращает ndarray с таким же shape со значениями True или False в зависимости был ли np.nan в этом месте в оригинальном ndarray\n",
    "\n",
    "Например: для массива isna(np.array([1, 2, np.nan, 3])) -> np.array([False, False, True, False])"
   ]
  },
  {
   "cell_type": "code",
   "execution_count": 59,
   "metadata": {
    "id": "_aBCwF47PaKv"
   },
   "outputs": [],
   "source": [
    "def isna(x: np.ndarray):\n",
    "    return x.copy() != x"
   ]
  },
  {
   "cell_type": "code",
   "execution_count": 60,
   "metadata": {
    "id": "ogbipsARRXQt"
   },
   "outputs": [],
   "source": [
    "# Test 1\n",
    "\n",
    "a = np.ones(10)\n",
    "a[0] = np.nan\n",
    "a[1] = None\n",
    "\n",
    "assert (isna(a) == np.isnan(a)).all()"
   ]
  },
  {
   "cell_type": "code",
   "execution_count": 61,
   "metadata": {
    "id": "E50jAhBRj7nI"
   },
   "outputs": [],
   "source": [
    "# Test 2\n",
    "\n",
    "a = np.ones((10, 10))\n",
    "a[0][5] = np.nan\n",
    "a[9][2] = np.nan\n",
    "\n",
    "assert (isna(a) == np.isnan(a)).all()"
   ]
  },
  {
   "cell_type": "markdown",
   "metadata": {
    "id": "IdK5f1m3QYCq"
   },
   "source": [
    "### 3) dist\n",
    "Реализовать функцию dist(v1, v2), которая принимает на вход два вектора с одинаковым shape, и возвращает число - [евклидово расстояние](https://ru.wikipedia.org/wiki/Евклидова_метрика) между ними.\n",
    "\n",
    "Так же нельзя использовать циклы и np.linagl.norm"
   ]
  },
  {
   "cell_type": "code",
   "execution_count": 64,
   "metadata": {},
   "outputs": [],
   "source": [
    "def dist(v1, v2):\n",
    "    v1 = np.array(v1)\n",
    "    v2 = np.array(v2)\n",
    "\n",
    "    squared_diff = (v1 - v2) ** 2\n",
    "\n",
    "    return np.sqrt(np.sum(squared_diff))"
   ]
  },
  {
   "cell_type": "code",
   "execution_count": 65,
   "metadata": {
    "id": "2wztdVPzQrWj"
   },
   "outputs": [],
   "source": [
    "# Test 1\n",
    "v1 = np.array([0, 0, 1])\n",
    "v2 = np.array([0, 0, 0])\n",
    "\n",
    "assert dist(v1, v2).round(8) == np.linalg.norm(v1 - v2).round(8)"
   ]
  },
  {
   "cell_type": "code",
   "execution_count": 66,
   "metadata": {
    "id": "_0K31_Q2RTbt"
   },
   "outputs": [],
   "source": [
    "# Test 2\n",
    "v1 = np.array([2, 3, 1])\n",
    "v2 = np.array([0, 0, 0])\n",
    "\n",
    "assert dist(v1, v2).round(8) == np.linalg.norm(v1 - v2).round(8)"
   ]
  },
  {
   "cell_type": "code",
   "execution_count": 67,
   "metadata": {
    "id": "rnR7rnTARjol"
   },
   "outputs": [],
   "source": [
    "# Test 3\n",
    "v1 = np.random.rand(100)\n",
    "v2 = np.random.rand(100)\n",
    "\n",
    "assert dist(v1, v2).round(8) == np.linalg.norm(v1 - v2).round(8)"
   ]
  },
  {
   "cell_type": "markdown",
   "metadata": {
    "id": "yUUvB1S55jiv"
   },
   "source": [
    "## Pandas"
   ]
  },
  {
   "cell_type": "markdown",
   "metadata": {
    "id": "I1iVxkFy_jFt"
   },
   "source": [
    "### Анализ домов\n",
    "Поиграться с датасетом цен на дома"
   ]
  },
  {
   "cell_type": "code",
   "execution_count": null,
   "metadata": {
    "id": "KDNA_QHw5l67"
   },
   "outputs": [],
   "source": [
    " # Построить 3 scatter графика зависимости SalePrice от какой-нибудь числовой колонки\n",
    " Ваш код..."
   ]
  },
  {
   "cell_type": "code",
   "execution_count": null,
   "metadata": {
    "id": "PZfFdellGhx_"
   },
   "outputs": [],
   "source": [
    "# Для 3 других числовых колонок построить гистограммы распределения"
   ]
  },
  {
   "cell_type": "code",
   "execution_count": null,
   "metadata": {
    "id": "xTMCtGyvGpzH"
   },
   "outputs": [],
   "source": [
    "# Посчитать среднюю цену дома с бассеином и без (PoolArea > 0 -> есть бассеин)"
   ]
  },
  {
   "cell_type": "code",
   "execution_count": null,
   "metadata": {
    "id": "sDQbZMVxFuch"
   },
   "outputs": [],
   "source": [
    "# Для 3 категориальных колонок вывести их распределение по категориям"
   ]
  },
  {
   "cell_type": "markdown",
   "metadata": {
    "id": "fNeACF8OFDuj"
   },
   "source": [
    "## Scikit-learn"
   ]
  },
  {
   "cell_type": "markdown",
   "metadata": {
    "id": "bJpklMRGFHTq"
   },
   "source": [
    "### Wine"
   ]
  },
  {
   "cell_type": "code",
   "execution_count": null,
   "metadata": {
    "id": "FDW5lQYCFFbF"
   },
   "outputs": [],
   "source": [
    "from sklearn.datasets import load_wine"
   ]
  },
  {
   "cell_type": "code",
   "execution_count": null,
   "metadata": {
    "id": "IQCz_3XMFLHN"
   },
   "outputs": [],
   "source": [
    "wine_data = load_wine()"
   ]
  },
  {
   "cell_type": "code",
   "execution_count": null,
   "metadata": {
    "colab": {
     "base_uri": "https://localhost:8080/"
    },
    "id": "VpSSlLgQFMld",
    "outputId": "31b0dc5f-79ce-4a21-9829-97915e4b35f3"
   },
   "outputs": [
    {
     "data": {
      "text/plain": [
       "{'data': array([[1.423e+01, 1.710e+00, 2.430e+00, ..., 1.040e+00, 3.920e+00,\n",
       "         1.065e+03],\n",
       "        [1.320e+01, 1.780e+00, 2.140e+00, ..., 1.050e+00, 3.400e+00,\n",
       "         1.050e+03],\n",
       "        [1.316e+01, 2.360e+00, 2.670e+00, ..., 1.030e+00, 3.170e+00,\n",
       "         1.185e+03],\n",
       "        ...,\n",
       "        [1.327e+01, 4.280e+00, 2.260e+00, ..., 5.900e-01, 1.560e+00,\n",
       "         8.350e+02],\n",
       "        [1.317e+01, 2.590e+00, 2.370e+00, ..., 6.000e-01, 1.620e+00,\n",
       "         8.400e+02],\n",
       "        [1.413e+01, 4.100e+00, 2.740e+00, ..., 6.100e-01, 1.600e+00,\n",
       "         5.600e+02]]),\n",
       " 'target': array([0, 0, 0, 0, 0, 0, 0, 0, 0, 0, 0, 0, 0, 0, 0, 0, 0, 0, 0, 0, 0, 0,\n",
       "        0, 0, 0, 0, 0, 0, 0, 0, 0, 0, 0, 0, 0, 0, 0, 0, 0, 0, 0, 0, 0, 0,\n",
       "        0, 0, 0, 0, 0, 0, 0, 0, 0, 0, 0, 0, 0, 0, 0, 1, 1, 1, 1, 1, 1, 1,\n",
       "        1, 1, 1, 1, 1, 1, 1, 1, 1, 1, 1, 1, 1, 1, 1, 1, 1, 1, 1, 1, 1, 1,\n",
       "        1, 1, 1, 1, 1, 1, 1, 1, 1, 1, 1, 1, 1, 1, 1, 1, 1, 1, 1, 1, 1, 1,\n",
       "        1, 1, 1, 1, 1, 1, 1, 1, 1, 1, 1, 1, 1, 1, 1, 1, 1, 1, 1, 1, 2, 2,\n",
       "        2, 2, 2, 2, 2, 2, 2, 2, 2, 2, 2, 2, 2, 2, 2, 2, 2, 2, 2, 2, 2, 2,\n",
       "        2, 2, 2, 2, 2, 2, 2, 2, 2, 2, 2, 2, 2, 2, 2, 2, 2, 2, 2, 2, 2, 2,\n",
       "        2, 2]),\n",
       " 'frame': None,\n",
       " 'target_names': array(['class_0', 'class_1', 'class_2'], dtype='<U7'),\n",
       " 'DESCR': '.. _wine_dataset:\\n\\nWine recognition dataset\\n------------------------\\n\\n**Data Set Characteristics:**\\n\\n:Number of Instances: 178\\n:Number of Attributes: 13 numeric, predictive attributes and the class\\n:Attribute Information:\\n    - Alcohol\\n    - Malic acid\\n    - Ash\\n    - Alcalinity of ash\\n    - Magnesium\\n    - Total phenols\\n    - Flavanoids\\n    - Nonflavanoid phenols\\n    - Proanthocyanins\\n    - Color intensity\\n    - Hue\\n    - OD280/OD315 of diluted wines\\n    - Proline\\n    - class:\\n        - class_0\\n        - class_1\\n        - class_2\\n\\n:Summary Statistics:\\n\\n============================= ==== ===== ======= =====\\n                                Min   Max   Mean     SD\\n============================= ==== ===== ======= =====\\nAlcohol:                      11.0  14.8    13.0   0.8\\nMalic Acid:                   0.74  5.80    2.34  1.12\\nAsh:                          1.36  3.23    2.36  0.27\\nAlcalinity of Ash:            10.6  30.0    19.5   3.3\\nMagnesium:                    70.0 162.0    99.7  14.3\\nTotal Phenols:                0.98  3.88    2.29  0.63\\nFlavanoids:                   0.34  5.08    2.03  1.00\\nNonflavanoid Phenols:         0.13  0.66    0.36  0.12\\nProanthocyanins:              0.41  3.58    1.59  0.57\\nColour Intensity:              1.3  13.0     5.1   2.3\\nHue:                          0.48  1.71    0.96  0.23\\nOD280/OD315 of diluted wines: 1.27  4.00    2.61  0.71\\nProline:                       278  1680     746   315\\n============================= ==== ===== ======= =====\\n\\n:Missing Attribute Values: None\\n:Class Distribution: class_0 (59), class_1 (71), class_2 (48)\\n:Creator: R.A. Fisher\\n:Donor: Michael Marshall (MARSHALL%PLU@io.arc.nasa.gov)\\n:Date: July, 1988\\n\\nThis is a copy of UCI ML Wine recognition datasets.\\nhttps://archive.ics.uci.edu/ml/machine-learning-databases/wine/wine.data\\n\\nThe data is the results of a chemical analysis of wines grown in the same\\nregion in Italy by three different cultivators. There are thirteen different\\nmeasurements taken for different constituents found in the three types of\\nwine.\\n\\nOriginal Owners:\\n\\nForina, M. et al, PARVUS -\\nAn Extendible Package for Data Exploration, Classification and Correlation.\\nInstitute of Pharmaceutical and Food Analysis and Technologies,\\nVia Brigata Salerno, 16147 Genoa, Italy.\\n\\nCitation:\\n\\nLichman, M. (2013). UCI Machine Learning Repository\\n[https://archive.ics.uci.edu/ml]. Irvine, CA: University of California,\\nSchool of Information and Computer Science.\\n\\n.. dropdown:: References\\n\\n    (1) S. Aeberhard, D. Coomans and O. de Vel,\\n    Comparison of Classifiers in High Dimensional Settings,\\n    Tech. Rep. no. 92-02, (1992), Dept. of Computer Science and Dept. of\\n    Mathematics and Statistics, James Cook University of North Queensland.\\n    (Also submitted to Technometrics).\\n\\n    The data was used with many others for comparing various\\n    classifiers. The classes are separable, though only RDA\\n    has achieved 100% correct classification.\\n    (RDA : 100%, QDA 99.4%, LDA 98.9%, 1NN 96.1% (z-transformed data))\\n    (All results using the leave-one-out technique)\\n\\n    (2) S. Aeberhard, D. Coomans and O. de Vel,\\n    \"THE CLASSIFICATION PERFORMANCE OF RDA\"\\n    Tech. Rep. no. 92-01, (1992), Dept. of Computer Science and Dept. of\\n    Mathematics and Statistics, James Cook University of North Queensland.\\n    (Also submitted to Journal of Chemometrics).\\n',\n",
       " 'feature_names': ['alcohol',\n",
       "  'malic_acid',\n",
       "  'ash',\n",
       "  'alcalinity_of_ash',\n",
       "  'magnesium',\n",
       "  'total_phenols',\n",
       "  'flavanoids',\n",
       "  'nonflavanoid_phenols',\n",
       "  'proanthocyanins',\n",
       "  'color_intensity',\n",
       "  'hue',\n",
       "  'od280/od315_of_diluted_wines',\n",
       "  'proline']}"
      ]
     },
     "execution_count": 219,
     "metadata": {},
     "output_type": "execute_result"
    }
   ],
   "source": [
    "wine_data"
   ]
  },
  {
   "cell_type": "markdown",
   "metadata": {
    "id": "fDSAt8NPFSxb"
   },
   "source": [
    "По образу и подобию из лекции поиграться с датасетом вин.\n",
    "\n",
    "1. Создать pandas DataFrame\n",
    "2. Порисовать графики зависимости классов вин от фичей"
   ]
  },
  {
   "cell_type": "code",
   "execution_count": null,
   "metadata": {
    "id": "qx1vfx6vFW4_"
   },
   "outputs": [],
   "source": []
  }
 ],
 "metadata": {
  "colab": {
   "provenance": []
  },
  "kernelspec": {
   "display_name": ".venv",
   "language": "python",
   "name": "python3"
  },
  "language_info": {
   "codemirror_mode": {
    "name": "ipython",
    "version": 3
   },
   "file_extension": ".py",
   "mimetype": "text/x-python",
   "name": "python",
   "nbconvert_exporter": "python",
   "pygments_lexer": "ipython3",
   "version": "3.12.7"
  }
 },
 "nbformat": 4,
 "nbformat_minor": 0
}
