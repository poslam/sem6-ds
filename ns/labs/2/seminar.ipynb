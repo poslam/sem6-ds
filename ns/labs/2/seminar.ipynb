{
  "cells": [
    {
      "cell_type": "markdown",
      "metadata": {
        "id": "pz6yHpQG8ClG"
      },
      "source": [
        "# PyTorch"
      ]
    },
    {
      "cell_type": "markdown",
      "metadata": {
        "id": "_HgGBJC-8ClI"
      },
      "source": [
        "## __Tensors__"
      ]
    },
    {
      "cell_type": "markdown",
      "metadata": {
        "id": "CZbEIx5l8ClI"
      },
      "source": [
        "Одно из основных понятий в PyTorch -- это __Tenosor__. \n",
        "\n",
        "https://pytorch.org/docs/master/tensors.html\n",
        "\n",
        "__Tensor__ -- это такой же массив, как и в __numpy.array__, размерность и тип данных которого мы можем задать. Tensor в отличие от numpy.array может вычисляться на __GPU__."
      ]
    },
    {
      "cell_type": "code",
      "execution_count": null,
      "metadata": {
        "id": "j8G6X-sE8ClJ"
      },
      "outputs": [],
      "source": [
        "import numpy as np\n",
        "import torch"
      ]
    },
    {
      "cell_type": "code",
      "execution_count": null,
      "metadata": {
        "id": "xJkq4KTu8ClK"
      },
      "outputs": [],
      "source": [
        "N = 100\n",
        "D_in = 50\n",
        "\n",
        "dtype = torch.float\n",
        "device = torch.device(\"cpu\")\n",
        "# device = torch.device(\"cuda:0\") # Uncomment this to run on GPU\n",
        "\n",
        "x = np.random.randn(N, D_in)\n",
        "x_torch = torch.randn(N, D_in, device=device, dtype=dtype)"
      ]
    },
    {
      "cell_type": "code",
      "execution_count": null,
      "metadata": {
        "id": "RCXdtQw18ClL"
      },
      "outputs": [],
      "source": [
        "x"
      ]
    },
    {
      "cell_type": "code",
      "execution_count": null,
      "metadata": {
        "id": "riWDhJkL8ClM"
      },
      "outputs": [],
      "source": [
        "x_torch"
      ]
    },
    {
      "cell_type": "code",
      "execution_count": null,
      "metadata": {
        "id": "u8l_6hzt8ClM"
      },
      "outputs": [],
      "source": [
        "x_torch = torch.Tensor(np.ones((N, D_in)))\n",
        "x_torch"
      ]
    },
    {
      "cell_type": "code",
      "execution_count": null,
      "metadata": {
        "id": "0mNnQOPD8ClN"
      },
      "outputs": [],
      "source": [
        "x_torch = torch.FloatTensor([1, 2, 3])\n",
        "x_torch"
      ]
    },
    {
      "cell_type": "code",
      "execution_count": null,
      "metadata": {
        "id": "Pmy7Bmh88ClN"
      },
      "outputs": [],
      "source": [
        "x1 = torch.IntTensor([1, 2, 3])\n",
        "x2 = torch.FloatTensor([3, 4, 5])"
      ]
    },
    {
      "cell_type": "markdown",
      "metadata": {
        "id": "jh9wxvgr8ClN"
      },
      "source": [
        "В PyTorch можно найти много операций, которые похожи на то, что есть в numpy :\n",
        "```\n",
        "- torch.add (np.add) -> сложение тензоров (поэлементное)\n",
        "- torch.sub (np.subtract) -> вычитание (поэлементное)\n",
        "- torch.mul (np.multiply) -> умнажение скаляров / матриц (поэлементное)\n",
        "- torch.mm (np.matmul) -> перемножение матриц\n",
        "- torch.ones (np.ones) -> создание тензора из единиц\n",
        "```"
      ]
    },
    {
      "cell_type": "code",
      "execution_count": null,
      "metadata": {
        "id": "h-LCJEE-8ClO"
      },
      "outputs": [],
      "source": [
        "# Давайте попробуем вышепересчисленные операции"
      ]
    },
    {
      "cell_type": "code",
      "execution_count": null,
      "metadata": {
        "id": "635wFrKo8ClO"
      },
      "outputs": [],
      "source": [
        "x1 = torch.FloatTensor([[1, 2, 3], [4, 5, 6]])"
      ]
    },
    {
      "cell_type": "code",
      "execution_count": null,
      "metadata": {
        "id": "bRyexPgA8ClP"
      },
      "outputs": [],
      "source": [
        "x2 = torch.FloatTensor([[7, 8], [9, 1], [2, 3]])"
      ]
    },
    {
      "cell_type": "code",
      "execution_count": null,
      "metadata": {
        "id": "kmSgryhq8ClP"
      },
      "outputs": [],
      "source": [
        "out = torch.mm(x1, x2)\n",
        "out"
      ]
    },
    {
      "cell_type": "markdown",
      "metadata": {
        "id": "Umrtw8sk8ClP"
      },
      "source": [
        "```\n",
        "- torch.reshape (np.reshape) -> изменения порядка элементов в тензоре, не путать с транспонированием.\n",
        "```"
      ]
    },
    {
      "cell_type": "markdown",
      "metadata": {
        "id": "n1qUqRli8ClQ"
      },
      "source": [
        "## Dynamic Computational Graph"
      ]
    },
    {
      "cell_type": "markdown",
      "metadata": {
        "id": "QypMGica8ClQ"
      },
      "source": [
        "После того, как были реализованы архитектура модели и весь процес обучения и валидация сети, при запуске кода в PyTorch происходят следующие этапы:"
      ]
    },
    {
      "cell_type": "markdown",
      "metadata": {
        "id": "9CUiFWUh8ClQ"
      },
      "source": [
        "1. Строится вычислительный граф (направленный ациклический граф), где каждый узел -- это тензор, а ребро, ведущее к дргуому узлу, это выполнение операции над данным тензором, которое ведет к результату - другому тензору."
      ]
    },
    {
      "cell_type": "markdown",
      "metadata": {
        "id": "Jv1zPEXv8ClR"
      },
      "source": [
        "<img src=\"https://beebom.com/wp-content/uploads/2016/07/Tensor-bb-tensor-flowing.jpg\" alt=\"Drawing\" style=\"height: 100px;\"/>"
      ]
    },
    {
      "cell_type": "markdown",
      "metadata": {
        "id": "mKDACh2j8ClR"
      },
      "source": [
        "Реализуем двухслойную сеть для задачи регрессии. И граф для такой архитектуры бдует выглядить следующим образом:"
      ]
    },
    {
      "cell_type": "markdown",
      "metadata": {
        "id": "MbS64mbu8ClR"
      },
      "source": [
        "<img src=\"https://github.com/RiskModellingResearch/RiskManagementDL_Autumn21/blob/main/week03/images/RegGraph.png?raw=1\" alt=\"Drawing\" />"
      ]
    },
    {
      "cell_type": "code",
      "execution_count": null,
      "metadata": {
        "id": "ZsAOdlmu8ClS"
      },
      "outputs": [],
      "source": [
        "batch_size = 64\n",
        "input_size = 1\n",
        "hidden_size = 10\n",
        "output_size = 1"
      ]
    },
    {
      "cell_type": "code",
      "source": [
        "x = np.arange(-10, 10, 0.01).reshape(-1, 1)\n",
        "y = x**2 * np.sin(x).reshape(-1, 1)"
      ],
      "metadata": {
        "id": "YatxJlSN1pGW"
      },
      "execution_count": null,
      "outputs": []
    },
    {
      "cell_type": "code",
      "source": [
        "x = torch.FloatTensor(x)\n",
        "y = torch.FloatTensor(y)"
      ],
      "metadata": {
        "id": "a81qO3ZH14ib"
      },
      "execution_count": null,
      "outputs": []
    },
    {
      "cell_type": "code",
      "source": [
        "# Create random input and output data\n",
        "# x = torch.randn(batch_size, input_size, device=device, dtype=dtype)\n",
        "# y = torch.randn(batch_size, output_size, device=device, dtype=dtype)\n",
        "\n",
        "# Randomly initialize weights\n",
        "w1 = torch.randn(input_size, hidden_size, device=device, dtype=dtype)\n",
        "w2 = torch.randn(hidden_size, output_size, device=device, dtype=dtype)"
      ],
      "metadata": {
        "id": "TZhlyx833krv"
      },
      "execution_count": null,
      "outputs": []
    },
    {
      "cell_type": "code",
      "execution_count": null,
      "metadata": {
        "id": "faZTQM_88ClS"
      },
      "outputs": [],
      "source": [
        "learning_rate = 1e-6\n",
        "for t in range(500):\n",
        "    # Forward pass: compute predicted y\n",
        "    #TODO\n",
        "\n",
        "    # Compute and print loss\n",
        "    loss = (y_pred - y).pow(2).mean().item()"
      ]
    },
    {
      "cell_type": "code",
      "source": [
        "loss"
      ],
      "metadata": {
        "id": "iuc2yBj92P39"
      },
      "execution_count": null,
      "outputs": []
    },
    {
      "cell_type": "code",
      "source": [
        "import matplotlib.pyplot as plt\n",
        "plt.scatter(x, y)\n",
        "plt.scatter(x, y_pred)"
      ],
      "metadata": {
        "id": "rMsLfP4K4d6m"
      },
      "execution_count": null,
      "outputs": []
    },
    {
      "cell_type": "markdown",
      "metadata": {
        "id": "uW9WDm_E8ClS"
      },
      "source": [
        "## Autograd"
      ]
    },
    {
      "cell_type": "markdown",
      "metadata": {
        "id": "aN_meyF98ClT"
      },
      "source": [
        "2. Еще одно фундаментальное понятие и важный элемент при построении графа -- это __Autograd__ -- автоматическое дифференцирование.\n",
        "\n",
        "Для того чтобы с помощью стохастического градиентного спуска обновить обучаемые параметры сети, нужно посчитать градиенты. И как известно, обновление весов, которые учавтсвуют в нескольких операциях, происходит по `правилу дифференцирования сложной функции` (цепное правило или __chain rule__)."
      ]
    },
    {
      "cell_type": "markdown",
      "metadata": {
        "id": "4VnCM-Oa8ClT"
      },
      "source": [
        "<img src=\"https://github.com/RiskModellingResearch/RiskManagementDL_Autumn21/blob/main/week03/images/RegChainRule.png?raw=1\" alt=\"Drawing\" />"
      ]
    },
    {
      "cell_type": "markdown",
      "metadata": {
        "id": "KGJ4wCRx8ClT"
      },
      "source": [
        "То есть (1) вычислительный граф позволяет определить последовательность операций, а (2) автоматическое дифференцирование посчитать нужные градиенты."
      ]
    },
    {
      "cell_type": "markdown",
      "metadata": {
        "id": "T3Ug6FWN8ClT"
      },
      "source": [
        "Если бы `Autograd` не было, то тогда backprop надо было бы реализовывать самим, и как это бы выглядело?"
      ]
    },
    {
      "cell_type": "markdown",
      "metadata": {
        "id": "8VaGBLIs8ClU"
      },
      "source": [
        "Рассмотрим на примере, как посчиать градиенты для весов из входного слоя, где входной вектора `X` состоит из 3-х компонент. А входной слой вторую размерность имеет равной 2. \n",
        "\n",
        "После чего это идет в `ReLU`, но для простоты опустим на время ее, и посмотрим как дальше это идет по сети.\n",
        "\n",
        "Ниже написано, как это все вычисляется и приводит нас к значению целевой функции для одного наблюдения"
      ]
    },
    {
      "cell_type": "markdown",
      "metadata": {
        "id": "NIv63-ku8ClU"
      },
      "source": [
        "<img src=\"https://github.com/RiskModellingResearch/RiskManagementDL_Autumn21/blob/main/week03/images/1.png?raw=1\" alt=\"1\" style=\"width: 600px;\"/>"
      ]
    },
    {
      "cell_type": "markdown",
      "metadata": {
        "id": "Ul7cuxof8ClU"
      },
      "source": [
        "Тогда, чтобы посчитать градиент по первому элементу из обучаемой матрицы на первом слое, необходимо взять производоную у сложной функции. А этот как раз делается по `chain rule`: сначала берем у внешней, потом спускаемся на уровень ниже, и так пока не додйдем до то функции, после которой эта перменная уже нигде не участвует:"
      ]
    },
    {
      "cell_type": "markdown",
      "metadata": {
        "id": "R0JIIjF38ClU"
      },
      "source": [
        "<img src=\"https://github.com/RiskModellingResearch/RiskManagementDL_Autumn21/blob/main/week03/images/2.png?raw=1\" alt=\"2\" style=\"width: 400px;\"/>"
      ]
    },
    {
      "cell_type": "markdown",
      "metadata": {
        "id": "kQ8cNAha8ClV"
      },
      "source": [
        "Перепишем это все в матричном виде, то есть сделаем аналог вида матрицы весов из первого слоя, но там уже будут её градиенты, котоыре будут нужны чтобы как раз обновить эти веса:"
      ]
    },
    {
      "cell_type": "markdown",
      "metadata": {
        "id": "ialkoSLa8ClV"
      },
      "source": [
        "<img src=\"https://github.com/RiskModellingResearch/RiskManagementDL_Autumn21/blob/main/week03/images/3.jpg?raw=1\" alt=\"3\" style=\"width: 600px;\"/>"
      ]
    },
    {
      "cell_type": "markdown",
      "metadata": {
        "id": "Rj3pMHev8ClV"
      },
      "source": [
        "Как видно, здесь можно вектор X вынести, то есть разделить на две матрицы:"
      ]
    },
    {
      "cell_type": "markdown",
      "metadata": {
        "id": "nE7Kk3DE8ClW"
      },
      "source": [
        "<img src=\"https://github.com/RiskModellingResearch/RiskManagementDL_Autumn21/blob/main/week03/images/4.jpg?raw=1\" alt=\"4\" style=\"width: 500px;\"/>"
      ]
    },
    {
      "cell_type": "markdown",
      "metadata": {
        "id": "QoaDcDSW8ClW"
      },
      "source": [
        "То есть уже видно, что будем траспонировать входной вектор(матрицу). Но надо понимать, что в реальности у нас не одно наблюдение в батче, а несколько, тогда запись немного изменит свой вид:"
      ]
    },
    {
      "cell_type": "markdown",
      "metadata": {
        "id": "blD7WHmc8ClW"
      },
      "source": [
        "<img src=\"https://github.com/RiskModellingResearch/RiskManagementDL_Autumn21/blob/main/week03/images/5.jpg?raw=1\" alt=\"5\" style=\"width: 500px;\"/>"
      ]
    },
    {
      "cell_type": "markdown",
      "metadata": {
        "id": "Zf39da5e8ClW"
      },
      "source": [
        "Теперь мы видим, как на самом деле вычисляется вот те самые частные производные для вектора X, то есть видно, как математически это можно записать, а именно:"
      ]
    },
    {
      "cell_type": "markdown",
      "metadata": {
        "id": "98O85uqK8ClW"
      },
      "source": [
        "<img src=\"https://github.com/RiskModellingResearch/RiskManagementDL_Autumn21/blob/main/week03/images/6.jpg?raw=1\" alt=\"6\" style=\"width: 500px;\"/>"
      ]
    },
    {
      "cell_type": "markdown",
      "metadata": {
        "id": "J-ojTrVl8ClX"
      },
      "source": [
        "<img src=\"https://github.com/RiskModellingResearch/RiskManagementDL_Autumn21/blob/main/week03/images/7.jpg?raw=1\" alt=\"7\" style=\"width: 500px;\"/>"
      ]
    },
    {
      "cell_type": "markdown",
      "metadata": {
        "id": "HBUSFfGK8ClX"
      },
      "source": [
        "Уже можно реализовать. Понятно, что транспонируется, что нет, и что на что умножается."
      ]
    },
    {
      "cell_type": "markdown",
      "metadata": {
        "id": "sAi49OYS8ClX"
      },
      "source": [
        "Но помним про ReLU. Для простоты опустили, но теперь её учесть будет легче. \n",
        "\n",
        "Так как после первого слоя идет ReLU, а значит, занулились те выходы первого слоя, которые были __меньше__ нуля. Получается, что во второй слой не все дошло, тогда нужно обнулить, что занулил ReLU. \n",
        "\n",
        "Что занулил ReLU, мы можем выяснить при `forward pass`, а где именно поставить нули, то надо уже смотреть относительно `backward propagation`, на том выходе, где последний раз участвовал выход после ReLU, то есть:"
      ]
    },
    {
      "cell_type": "markdown",
      "metadata": {
        "id": "-e3SkVv_8ClY"
      },
      "source": [
        "<img src=\"https://github.com/RiskModellingResearch/RiskManagementDL_Autumn21/blob/main/week03/images/8.jpg?raw=1\" alt=\"8\" style=\"width: 600px;\"/>"
      ]
    },
    {
      "cell_type": "markdown",
      "metadata": {
        "id": "vfilI_6g8ClY"
      },
      "source": [
        "Теперь реализуем эти формулы на PyTorch:"
      ]
    },
    {
      "cell_type": "code",
      "execution_count": null,
      "metadata": {
        "id": "o26F2mZo8ClY"
      },
      "outputs": [],
      "source": [
        "#TODO\n",
        "grad_w2 = \n",
        "\n",
        "# TODO\n",
        "grad_w1 = \n",
        "\n",
        "# Update weights using gradient descent\n",
        "w1 -= learning_rate * grad_w1\n",
        "w2 -= learning_rate * grad_w2"
      ]
    },
    {
      "cell_type": "markdown",
      "metadata": {
        "id": "DvOLsPPN8ClZ"
      },
      "source": [
        "Благодаря `Autograd` реализацию `chain rule` можно избежать, так как для более сложных нейронных сетей вручную такое реализовать сложно, при этом сделать это эффективным."
      ]
    },
    {
      "cell_type": "markdown",
      "metadata": {
        "id": "qO7tcOZ08ClZ"
      },
      "source": [
        "Для того чтобы PyTorch понял, за какими переменными надо \"следить\", то есть указать, что именно \"эти\" переменные являются обучаемыми, необходимо при создании тензора в качестве аттрибута указать __requires_grad=True__:"
      ]
    },
    {
      "cell_type": "code",
      "execution_count": null,
      "metadata": {
        "id": "n8daocyc8ClZ"
      },
      "outputs": [],
      "source": [
        "w1 = torch.randn(input_size, hidden_size, device=device, dtype=dtype, requires_grad=True)\n",
        "w2 = torch.randn(hidden_size, output_size, device=device, dtype=dtype, requires_grad=True)"
      ]
    },
    {
      "cell_type": "code",
      "execution_count": null,
      "metadata": {
        "id": "qC-ObxKC8Cla"
      },
      "outputs": [],
      "source": [
        "learning_rate = 1e-6\n",
        "for t in range(50000):\n",
        "    h1 = x.mm(w1)\n",
        "    h_relu = torch.relu(h1)\n",
        "    y_pred = h_relu.mm(w2)\n",
        "\n",
        "    loss = (y_pred - y).pow(2).sum()\n",
        "    if t % 1000 == 0:\n",
        "        print(t, loss.item())\n",
        "    \n",
        "    # Теперь подсчет градиентов для весов происходит при вызове backward\n",
        "    loss.backward()\n",
        "   \n",
        "    # Обновляем значение весов, но укзаываем, чтобы PyTorch не считал эту операцию, \n",
        "    # которая бы учавствовала бы при подсчете градиентов в chain rule\n",
        "    with torch.no_grad():\n",
        "        w1 -= learning_rate * w1.grad\n",
        "        w2 -= learning_rate * w2.grad\n",
        "        \n",
        "        # Теперь обнуляем значение градиентов, чтобы на следующем шаге \n",
        "        # они не учитывались при подсчете новых градиентов,\n",
        "        # иначе произойдет суммирвоание старых и новых градиентов\n",
        "        w1.grad.zero_()\n",
        "        w2.grad.zero_()"
      ]
    },
    {
      "cell_type": "code",
      "source": [
        "plt.scatter(x, y)\n",
        "plt.scatter(x, y_pred.detach().numpy())"
      ],
      "metadata": {
        "id": "49M54dyM5R4B"
      },
      "execution_count": null,
      "outputs": []
    },
    {
      "cell_type": "markdown",
      "source": [],
      "metadata": {
        "id": "Wm46pvSW7Mn3"
      }
    },
    {
      "cell_type": "markdown",
      "metadata": {
        "id": "YmIXhT-_8Cla"
      },
      "source": [
        "Осталось еще не вручную обновлять веса, а использовать адаптивные методы градинетного спсука. Для этого нужно использовать модуль __optim__. А помимо оптимайзера, еще можно использовать готовые целевые функции из модлуя __nn__."
      ]
    },
    {
      "cell_type": "code",
      "source": [
        "w1 = torch.randn(input_size, hidden_size, device=device, dtype=dtype, requires_grad=True)\n",
        "w2 = torch.randn(hidden_size, output_size, device=device, dtype=dtype, requires_grad=True)"
      ],
      "metadata": {
        "id": "jpNLgJZ27S2f"
      },
      "execution_count": null,
      "outputs": []
    },
    {
      "cell_type": "code",
      "execution_count": null,
      "metadata": {
        "id": "MTmQdSx58Clb"
      },
      "outputs": [],
      "source": [
        "import torch.optim as optim\n",
        "\n",
        "loss_fn = torch.nn.MSELoss(reduction='mean')\n",
        "\n",
        "learning_rate = 1e-2\n",
        "optimizer = torch.optim.Adam([w1, w2], lr=learning_rate)\n",
        "\n",
        "for t in range(50000):\n",
        "    optimizer.zero_grad()\n",
        "    \n",
        "    h1 = x.mm(w1)\n",
        "    h_relu = torch.relu(h1)\n",
        "    y_pred = h_relu.mm(w2)\n",
        "    \n",
        "    loss = loss_fn(y_pred, y)\n",
        "    if t % 1000 == 0:\n",
        "        print(t, loss.item())\n",
        "    \n",
        "    loss.backward()\n",
        "   \n",
        "    optimizer.step()"
      ]
    },
    {
      "cell_type": "code",
      "source": [
        "plt.scatter(x, y)\n",
        "plt.scatter(x, y_pred.detach().numpy())"
      ],
      "metadata": {
        "id": "8sI1gzww6qZU"
      },
      "execution_count": null,
      "outputs": []
    },
    {
      "cell_type": "markdown",
      "metadata": {
        "id": "SbTcQyM18Clb"
      },
      "source": [
        "После того, как мы сделали backward, в этот момент посчитались градиенты и граф уничтожился, то есть стёрлись все пути, которые связывали тензоры между собой. Это значит, что еще раз backward сделать не поулчится, будет ошибка. Но если вдруг нужно считать градиенты еще раз, то нужно при вызове backward задать `retain_graph=True`."
      ]
    },
    {
      "cell_type": "markdown",
      "metadata": {
        "id": "rx6pezea8Clb"
      },
      "source": [
        "Еще важный аттрибут, который есть у Tensor -- это `grad_fn`. В этом аттрибуте указывается та функция, посредством которой был создан этот тензор. Так PyTorch понимает, как именно считать по нему градиент."
      ]
    },
    {
      "cell_type": "code",
      "execution_count": null,
      "metadata": {
        "id": "G9pH7Ecp8Clc"
      },
      "outputs": [],
      "source": [
        "y_pred.grad_fn"
      ]
    },
    {
      "cell_type": "markdown",
      "metadata": {
        "id": "K7_I3SjG8Clc"
      },
      "source": [
        "Также можно контролировать, должны ли градиенты течь или нет."
      ]
    },
    {
      "cell_type": "code",
      "execution_count": null,
      "metadata": {
        "id": "M7wyvbwm8Clc"
      },
      "outputs": [],
      "source": [
        "x = torch.tensor([1], requires_grad=True)\n",
        "with torch.no_grad():\n",
        "    with torch.enable_grad():\n",
        "        y = x * 2\n",
        "y.requires_grad"
      ]
    },
    {
      "cell_type": "markdown",
      "metadata": {
        "id": "omDzgeyO8Clc"
      },
      "source": [
        "## Почему Backprop надо понимать"
      ]
    },
    {
      "cell_type": "markdown",
      "metadata": {
        "id": "adwmiNE-8Cld"
      },
      "source": [
        "1. Backprop позволяет понимать, как те или иные операции, сложные конструкции в сети влияют на обнолвение весов.\n",
        "Почему лучше сделать конкатенацию тензоров, а не поэлементное сложение. Для этого нужно посмотреть на backprop, как будут обновляться веса.\n",
        "\n",
        "2. Даже на таком маленьком пример двуслойной MLP можно уже увидеть, когда `ReLU`, как функция активация, не очень хорошо применять. Если разреженные данные, то получить на выходе много нулей вероятнее, чем при использовании `LeakyReLU`, то есть градиенты будут нулевыми и веса никак не будут обновляться => сеть не обучается!\n",
        "\n",
        "3. В архитектуре могут встречаться недифференцируемые операции, и первое - это нужно понять, потому что при обучении сети это может быть не сразу заметно, просто качество модели будет плохое, и точность хорошую не поулчится достичь.\n",
        "\n",
        "Например, в одной из статей было предложено в качестве механизма внимания применить распределение Бернулли, которое умножается на выход промежуточного слоя сети. И эта опреация недифференцируема, нужно реализовывать backprop самим, тем самым обеспечить корректное протекание градиентов.\n"
      ]
    },
    {
      "cell_type": "markdown",
      "metadata": {
        "id": "_84tINVx8Cld"
      },
      "source": [
        "<img src=\"https://github.com/RiskModellingResearch/RiskManagementDL_Autumn21/blob/main/week03/images/Bernoulli.png?raw=1\" alt=\"8\" style=\"width: 600px;\"/>"
      ]
    },
    {
      "cell_type": "markdown",
      "metadata": {
        "id": "TzGzUhSb8Cld"
      },
      "source": [
        "Так же любая статья, которая предлагет новую целевую функцию для той или иной задачи, там всегда будут представлены градиенты, чтобы было понимание, как это влияет на обновление весов. Не просто так !"
      ]
    },
    {
      "cell_type": "markdown",
      "metadata": {
        "id": "oszfcWtL8Cld"
      },
      "source": [
        "<img src=\"https://github.com/RiskModellingResearch/RiskManagementDL_Autumn21/blob/main/week03/images/BernoulliBackProp.png?raw=1\" alt=\"8\" style=\"width: 600px;\"/>"
      ]
    },
    {
      "cell_type": "markdown",
      "metadata": {
        "id": "OLM09kk48Cld"
      },
      "source": [
        "## nn.Module"
      ]
    },
    {
      "cell_type": "markdown",
      "metadata": {
        "id": "QLhkxcgw8Cle"
      },
      "source": [
        "В предыдущем примере архитектуру сети создавали используя последовательной способ объявления слоев сети -- `nn.Sequential`.\n",
        "\n",
        "Но еще можно это сделать более гибким подходом:"
      ]
    },
    {
      "cell_type": "code",
      "execution_count": null,
      "metadata": {
        "id": "1sj9YuGl8Cle"
      },
      "outputs": [],
      "source": [
        "from torch import nn\n",
        "class TwoLayerNet(nn.Module):\n",
        "    def __init__(self, input_size, hidden_size, output_size):\n",
        "        \"\"\"\n",
        "        TwoLayerNet наследуется от nn.Module и тем самым полчаем возможность\n",
        "        переопределять методы класса.\n",
        "        В конструктуре создаем слои (обучаемые веса) и другие нужные перменные/функции,\n",
        "        которые нужны для модели\n",
        "        \"\"\"\n",
        "        super(TwoLayerNet, self).__init__()\n",
        "        self.linear1 = torch.nn.Linear(input_size, hidden_size, bias=False)\n",
        "        self.linear2 = torch.nn.Linear(hidden_size, output_size, bias=False)\n",
        "\n",
        "    def forward(self, x):\n",
        "        \"\"\"\n",
        "        Метод forward отвечает за прямое распростронение модели, \n",
        "        поэтому данный метод нужно переопределять обязательно, \n",
        "        чтобы задать логику прямого распростронения. \n",
        "        Именно в этот момент начинает строится динамический граф\n",
        "        \"\"\"\n",
        "        h_relu = torch.relu(self.linear1(x))\n",
        "        y_pred = self.linear2(h_relu)\n",
        "        \n",
        "        return y_pred"
      ]
    },
    {
      "cell_type": "code",
      "execution_count": null,
      "metadata": {
        "id": "YOfk1W2f8Cle"
      },
      "outputs": [],
      "source": [
        "batch_size = 64\n",
        "input_size = 1\n",
        "hidden_size = 10\n",
        "output_size = 1\n",
        "\n",
        "# x = torch.randn(batch_size, input_size, device=device, dtype=dtype)\n",
        "# y = torch.randn(batch_size, output_size, device=device, dtype=dtype)\n",
        "\n",
        "model = TwoLayerNet(input_size, hidden_size, output_size)\n",
        "\n",
        "loss_fn = torch.nn.MSELoss(reduction='mean')\n",
        "optimizer = torch.optim.SGD(model.parameters(), lr=1e-4)\n",
        "\n",
        "for t in range(50000):\n",
        "    y_pred = model(x)\n",
        "\n",
        "    loss = loss_fn(y_pred, y)\n",
        "    if t % 1000 == 0:\n",
        "        print(t, loss.item())\n",
        "\n",
        "    optimizer.zero_grad()\n",
        "    loss.backward()\n",
        "    optimizer.step()"
      ]
    },
    {
      "cell_type": "code",
      "execution_count": null,
      "metadata": {
        "id": "DTLnr8ED8Clf"
      },
      "outputs": [],
      "source": [
        "plt.scatter(x, y)\n",
        "plt.scatter(x, y_pred.detach().numpy())"
      ]
    },
    {
      "cell_type": "code",
      "source": [],
      "metadata": {
        "id": "N050WT-97usZ"
      },
      "execution_count": null,
      "outputs": []
    }
  ],
  "metadata": {
    "kernelspec": {
      "display_name": "Python 3",
      "language": "python",
      "name": "python3"
    },
    "language_info": {
      "codemirror_mode": {
        "name": "ipython",
        "version": 3
      },
      "file_extension": ".py",
      "mimetype": "text/x-python",
      "name": "python",
      "nbconvert_exporter": "python",
      "pygments_lexer": "ipython3",
      "version": "3.6.6"
    },
    "colab": {
      "provenance": [],
      "collapsed_sections": []
    }
  },
  "nbformat": 4,
  "nbformat_minor": 0
}