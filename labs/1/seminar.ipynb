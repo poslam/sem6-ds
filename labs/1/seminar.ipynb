{
  "cells": [
    {
      "cell_type": "markdown",
      "metadata": {
        "id": "V72bLKGZwa8S"
      },
      "source": [
        "# Простейшие нейронные сети на PyTorch"
      ]
    },
    {
      "cell_type": "code",
      "execution_count": 58,
      "metadata": {
        "id": "rAzTos0xy_Q_"
      },
      "outputs": [],
      "source": [
        "!pip install fastai --upgrade -q"
      ]
    },
    {
      "cell_type": "code",
      "execution_count": 59,
      "metadata": {
        "colab": {
          "base_uri": "https://localhost:8080/"
        },
        "id": "BvLwxwQDwko5",
        "outputId": "cd898f48-7cbb-4ab0-c729-e4b58c4f3906"
      },
      "outputs": [
        {
          "name": "stdout",
          "output_type": "stream",
          "text": [
            "fatal: destination path 'DeepLearning_Winter22' already exists and is not an empty directory.\n"
          ]
        }
      ],
      "source": [
        "!git clone https://github.com/RiskModellingResearch/DeepLearning_Autumn22.git"
      ]
    },
    {
      "cell_type": "code",
      "execution_count": 60,
      "metadata": {
        "id": "Bmyrnn4ouDxc"
      },
      "outputs": [],
      "source": [
        "import warnings\n",
        "warnings.filterwarnings(\"ignore\")"
      ]
    },
    {
      "cell_type": "code",
      "execution_count": 61,
      "metadata": {
        "colab": {
          "base_uri": "https://localhost:8080/"
        },
        "id": "OMipOdkiuDxd",
        "outputId": "3f25c458-ed8c-45c1-edfc-1c6f3397ce8c"
      },
      "outputs": [
        {
          "name": "stdout",
          "output_type": "stream",
          "text": [
            "1.12.1+cu113\n"
          ]
        }
      ],
      "source": [
        "# Подгружаем pytorch \n",
        "import torch\n",
        "\n",
        "print(torch.__version__)"
      ]
    },
    {
      "cell_type": "code",
      "execution_count": 62,
      "metadata": {
        "id": "ndvRuvVhuDxe"
      },
      "outputs": [],
      "source": [
        "# Подгрузим ещё немного пакетов :) \n",
        "import numpy as np\n",
        "import pandas as pd\n",
        "\n",
        "import seaborn as sns\n",
        "import matplotlib.pyplot as plt\n",
        "plt.style.use('ggplot')\n",
        "\n",
        "from sklearn.model_selection import train_test_split\n",
        "from sklearn.metrics import accuracy_score\n",
        "\n",
        "%matplotlib inline"
      ]
    },
    {
      "cell_type": "markdown",
      "metadata": {
        "id": "px7NH3mcuDxe"
      },
      "source": [
        "## 1. О данных и бэйзлайнах\n",
        "\n",
        "Наша главная цель - познакомиться с процессом создания простой нейронной сети и ее обучения.\n",
        "\n",
        "__Делать всё это мы будем на животных.__ Ежегодно около 7.6 миллионов бедных животных в США оказываются в приютах. Часть из них находит себе новую семью, часть возвращается к старому (бывает, что питомец потерялся и его нашли на улице), а часть погибает. Ужегодно усыпляется около 2.7 млн. собак и кошек.  \n",
        "\n",
        "Используя датасет с входной информацией (цвет, пол, возраст и т.п.) из одного из приютов, мы попытаемся спрогнозировать что произойдёт с новыми животными, которые попадут в этот приют. Данные, используемые в тетрадке уже были предварительно обработаны и приведены в удобную для построения моделей форму. "
      ]
    },
    {
      "cell_type": "code",
      "execution_count": 66,
      "metadata": {
        "id": "LemYBSRD-9no"
      },
      "outputs": [],
      "source": [
        "animals = pd.read_csv('./DeepLearning_Autumn22/week_01/data/animals.csv', sep='\\t')"
      ]
    },
    {
      "cell_type": "code",
      "execution_count": 119,
      "metadata": {
        "colab": {
          "base_uri": "https://localhost:8080/",
          "height": 488
        },
        "id": "SV2O9GIS7v7t",
        "outputId": "0b1b7948-5e1e-4719-933d-b3f5305a57be"
      },
      "outputs": [
        {
          "data": {
            "text/html": [
              "\n",
              "  <div id=\"df-c031f6c1-203d-4422-9230-4d3ec5372519\">\n",
              "    <div class=\"colab-df-container\">\n",
              "      <div>\n",
              "<style scoped>\n",
              "    .dataframe tbody tr th:only-of-type {\n",
              "        vertical-align: middle;\n",
              "    }\n",
              "\n",
              "    .dataframe tbody tr th {\n",
              "        vertical-align: top;\n",
              "    }\n",
              "\n",
              "    .dataframe thead th {\n",
              "        text-align: right;\n",
              "    }\n",
              "</style>\n",
              "<table border=\"1\" class=\"dataframe\">\n",
              "  <thead>\n",
              "    <tr style=\"text-align: right;\">\n",
              "      <th></th>\n",
              "      <th>IsDog</th>\n",
              "      <th>Age</th>\n",
              "      <th>HasName</th>\n",
              "      <th>NameLength</th>\n",
              "      <th>NameFreq</th>\n",
              "      <th>MixColor</th>\n",
              "      <th>ColorFreqAsIs</th>\n",
              "      <th>ColorFreqBase</th>\n",
              "      <th>TabbyColor</th>\n",
              "      <th>MixBreed</th>\n",
              "      <th>...</th>\n",
              "      <th>SexStatus_Intact</th>\n",
              "      <th>SexStatus_Unknown</th>\n",
              "      <th>Weekday_0</th>\n",
              "      <th>Weekday_1</th>\n",
              "      <th>Weekday_2</th>\n",
              "      <th>Weekday_3</th>\n",
              "      <th>Weekday_4</th>\n",
              "      <th>Weekday_5</th>\n",
              "      <th>Weekday_6</th>\n",
              "      <th>target</th>\n",
              "    </tr>\n",
              "  </thead>\n",
              "  <tbody>\n",
              "    <tr>\n",
              "      <th>0</th>\n",
              "      <td>1</td>\n",
              "      <td>365.0</td>\n",
              "      <td>1</td>\n",
              "      <td>7</td>\n",
              "      <td>0.000157</td>\n",
              "      <td>1</td>\n",
              "      <td>0.032919</td>\n",
              "      <td>0.463624</td>\n",
              "      <td>0</td>\n",
              "      <td>1</td>\n",
              "      <td>...</td>\n",
              "      <td>0</td>\n",
              "      <td>0</td>\n",
              "      <td>0</td>\n",
              "      <td>0</td>\n",
              "      <td>1</td>\n",
              "      <td>0</td>\n",
              "      <td>0</td>\n",
              "      <td>0</td>\n",
              "      <td>0</td>\n",
              "      <td>2</td>\n",
              "    </tr>\n",
              "    <tr>\n",
              "      <th>1</th>\n",
              "      <td>0</td>\n",
              "      <td>365.0</td>\n",
              "      <td>1</td>\n",
              "      <td>5</td>\n",
              "      <td>0.000655</td>\n",
              "      <td>0</td>\n",
              "      <td>0.008092</td>\n",
              "      <td>0.015005</td>\n",
              "      <td>1</td>\n",
              "      <td>1</td>\n",
              "      <td>...</td>\n",
              "      <td>0</td>\n",
              "      <td>0</td>\n",
              "      <td>0</td>\n",
              "      <td>0</td>\n",
              "      <td>0</td>\n",
              "      <td>0</td>\n",
              "      <td>0</td>\n",
              "      <td>0</td>\n",
              "      <td>1</td>\n",
              "      <td>1</td>\n",
              "    </tr>\n",
              "    <tr>\n",
              "      <th>2</th>\n",
              "      <td>1</td>\n",
              "      <td>730.0</td>\n",
              "      <td>1</td>\n",
              "      <td>6</td>\n",
              "      <td>0.000052</td>\n",
              "      <td>1</td>\n",
              "      <td>0.026293</td>\n",
              "      <td>0.357521</td>\n",
              "      <td>0</td>\n",
              "      <td>1</td>\n",
              "      <td>...</td>\n",
              "      <td>0</td>\n",
              "      <td>0</td>\n",
              "      <td>0</td>\n",
              "      <td>0</td>\n",
              "      <td>0</td>\n",
              "      <td>0</td>\n",
              "      <td>0</td>\n",
              "      <td>1</td>\n",
              "      <td>0</td>\n",
              "      <td>0</td>\n",
              "    </tr>\n",
              "    <tr>\n",
              "      <th>3</th>\n",
              "      <td>0</td>\n",
              "      <td>21.0</td>\n",
              "      <td>0</td>\n",
              "      <td>7</td>\n",
              "      <td>0.285871</td>\n",
              "      <td>0</td>\n",
              "      <td>0.000471</td>\n",
              "      <td>0.058418</td>\n",
              "      <td>0</td>\n",
              "      <td>1</td>\n",
              "      <td>...</td>\n",
              "      <td>1</td>\n",
              "      <td>0</td>\n",
              "      <td>0</td>\n",
              "      <td>0</td>\n",
              "      <td>0</td>\n",
              "      <td>0</td>\n",
              "      <td>1</td>\n",
              "      <td>0</td>\n",
              "      <td>0</td>\n",
              "      <td>3</td>\n",
              "    </tr>\n",
              "    <tr>\n",
              "      <th>4</th>\n",
              "      <td>1</td>\n",
              "      <td>730.0</td>\n",
              "      <td>0</td>\n",
              "      <td>7</td>\n",
              "      <td>0.285871</td>\n",
              "      <td>0</td>\n",
              "      <td>0.023831</td>\n",
              "      <td>0.075353</td>\n",
              "      <td>0</td>\n",
              "      <td>0</td>\n",
              "      <td>...</td>\n",
              "      <td>0</td>\n",
              "      <td>0</td>\n",
              "      <td>0</td>\n",
              "      <td>0</td>\n",
              "      <td>0</td>\n",
              "      <td>0</td>\n",
              "      <td>1</td>\n",
              "      <td>0</td>\n",
              "      <td>0</td>\n",
              "      <td>3</td>\n",
              "    </tr>\n",
              "    <tr>\n",
              "      <th>...</th>\n",
              "      <td>...</td>\n",
              "      <td>...</td>\n",
              "      <td>...</td>\n",
              "      <td>...</td>\n",
              "      <td>...</td>\n",
              "      <td>...</td>\n",
              "      <td>...</td>\n",
              "      <td>...</td>\n",
              "      <td>...</td>\n",
              "      <td>...</td>\n",
              "      <td>...</td>\n",
              "      <td>...</td>\n",
              "      <td>...</td>\n",
              "      <td>...</td>\n",
              "      <td>...</td>\n",
              "      <td>...</td>\n",
              "      <td>...</td>\n",
              "      <td>...</td>\n",
              "      <td>...</td>\n",
              "      <td>...</td>\n",
              "      <td>...</td>\n",
              "    </tr>\n",
              "    <tr>\n",
              "      <th>26724</th>\n",
              "      <td>0</td>\n",
              "      <td>30.0</td>\n",
              "      <td>0</td>\n",
              "      <td>7</td>\n",
              "      <td>0.285871</td>\n",
              "      <td>1</td>\n",
              "      <td>0.034909</td>\n",
              "      <td>0.463624</td>\n",
              "      <td>1</td>\n",
              "      <td>1</td>\n",
              "      <td>...</td>\n",
              "      <td>1</td>\n",
              "      <td>0</td>\n",
              "      <td>0</td>\n",
              "      <td>0</td>\n",
              "      <td>0</td>\n",
              "      <td>1</td>\n",
              "      <td>0</td>\n",
              "      <td>0</td>\n",
              "      <td>0</td>\n",
              "      <td>3</td>\n",
              "    </tr>\n",
              "    <tr>\n",
              "      <th>26725</th>\n",
              "      <td>0</td>\n",
              "      <td>90.0</td>\n",
              "      <td>0</td>\n",
              "      <td>7</td>\n",
              "      <td>0.285871</td>\n",
              "      <td>0</td>\n",
              "      <td>0.061778</td>\n",
              "      <td>0.164522</td>\n",
              "      <td>1</td>\n",
              "      <td>1</td>\n",
              "      <td>...</td>\n",
              "      <td>0</td>\n",
              "      <td>0</td>\n",
              "      <td>0</td>\n",
              "      <td>0</td>\n",
              "      <td>1</td>\n",
              "      <td>0</td>\n",
              "      <td>0</td>\n",
              "      <td>0</td>\n",
              "      <td>0</td>\n",
              "      <td>3</td>\n",
              "    </tr>\n",
              "    <tr>\n",
              "      <th>26726</th>\n",
              "      <td>1</td>\n",
              "      <td>1460.0</td>\n",
              "      <td>1</td>\n",
              "      <td>4</td>\n",
              "      <td>0.001571</td>\n",
              "      <td>1</td>\n",
              "      <td>0.014587</td>\n",
              "      <td>0.374455</td>\n",
              "      <td>0</td>\n",
              "      <td>1</td>\n",
              "      <td>...</td>\n",
              "      <td>0</td>\n",
              "      <td>0</td>\n",
              "      <td>1</td>\n",
              "      <td>0</td>\n",
              "      <td>0</td>\n",
              "      <td>0</td>\n",
              "      <td>0</td>\n",
              "      <td>0</td>\n",
              "      <td>0</td>\n",
              "      <td>0</td>\n",
              "    </tr>\n",
              "    <tr>\n",
              "      <th>26727</th>\n",
              "      <td>0</td>\n",
              "      <td>28.0</td>\n",
              "      <td>0</td>\n",
              "      <td>7</td>\n",
              "      <td>0.285871</td>\n",
              "      <td>0</td>\n",
              "      <td>0.085505</td>\n",
              "      <td>0.199270</td>\n",
              "      <td>0</td>\n",
              "      <td>1</td>\n",
              "      <td>...</td>\n",
              "      <td>1</td>\n",
              "      <td>0</td>\n",
              "      <td>0</td>\n",
              "      <td>0</td>\n",
              "      <td>0</td>\n",
              "      <td>0</td>\n",
              "      <td>0</td>\n",
              "      <td>0</td>\n",
              "      <td>1</td>\n",
              "      <td>3</td>\n",
              "    </tr>\n",
              "    <tr>\n",
              "      <th>26728</th>\n",
              "      <td>0</td>\n",
              "      <td>365.0</td>\n",
              "      <td>0</td>\n",
              "      <td>7</td>\n",
              "      <td>0.285871</td>\n",
              "      <td>1</td>\n",
              "      <td>0.034909</td>\n",
              "      <td>0.463624</td>\n",
              "      <td>1</td>\n",
              "      <td>1</td>\n",
              "      <td>...</td>\n",
              "      <td>1</td>\n",
              "      <td>0</td>\n",
              "      <td>0</td>\n",
              "      <td>0</td>\n",
              "      <td>0</td>\n",
              "      <td>1</td>\n",
              "      <td>0</td>\n",
              "      <td>0</td>\n",
              "      <td>0</td>\n",
              "      <td>3</td>\n",
              "    </tr>\n",
              "  </tbody>\n",
              "</table>\n",
              "<p>26729 rows × 38 columns</p>\n",
              "</div>\n",
              "      <button class=\"colab-df-convert\" onclick=\"convertToInteractive('df-c031f6c1-203d-4422-9230-4d3ec5372519')\"\n",
              "              title=\"Convert this dataframe to an interactive table.\"\n",
              "              style=\"display:none;\">\n",
              "        \n",
              "  <svg xmlns=\"http://www.w3.org/2000/svg\" height=\"24px\"viewBox=\"0 0 24 24\"\n",
              "       width=\"24px\">\n",
              "    <path d=\"M0 0h24v24H0V0z\" fill=\"none\"/>\n",
              "    <path d=\"M18.56 5.44l.94 2.06.94-2.06 2.06-.94-2.06-.94-.94-2.06-.94 2.06-2.06.94zm-11 1L8.5 8.5l.94-2.06 2.06-.94-2.06-.94L8.5 2.5l-.94 2.06-2.06.94zm10 10l.94 2.06.94-2.06 2.06-.94-2.06-.94-.94-2.06-.94 2.06-2.06.94z\"/><path d=\"M17.41 7.96l-1.37-1.37c-.4-.4-.92-.59-1.43-.59-.52 0-1.04.2-1.43.59L10.3 9.45l-7.72 7.72c-.78.78-.78 2.05 0 2.83L4 21.41c.39.39.9.59 1.41.59.51 0 1.02-.2 1.41-.59l7.78-7.78 2.81-2.81c.8-.78.8-2.07 0-2.86zM5.41 20L4 18.59l7.72-7.72 1.47 1.35L5.41 20z\"/>\n",
              "  </svg>\n",
              "      </button>\n",
              "      \n",
              "  <style>\n",
              "    .colab-df-container {\n",
              "      display:flex;\n",
              "      flex-wrap:wrap;\n",
              "      gap: 12px;\n",
              "    }\n",
              "\n",
              "    .colab-df-convert {\n",
              "      background-color: #E8F0FE;\n",
              "      border: none;\n",
              "      border-radius: 50%;\n",
              "      cursor: pointer;\n",
              "      display: none;\n",
              "      fill: #1967D2;\n",
              "      height: 32px;\n",
              "      padding: 0 0 0 0;\n",
              "      width: 32px;\n",
              "    }\n",
              "\n",
              "    .colab-df-convert:hover {\n",
              "      background-color: #E2EBFA;\n",
              "      box-shadow: 0px 1px 2px rgba(60, 64, 67, 0.3), 0px 1px 3px 1px rgba(60, 64, 67, 0.15);\n",
              "      fill: #174EA6;\n",
              "    }\n",
              "\n",
              "    [theme=dark] .colab-df-convert {\n",
              "      background-color: #3B4455;\n",
              "      fill: #D2E3FC;\n",
              "    }\n",
              "\n",
              "    [theme=dark] .colab-df-convert:hover {\n",
              "      background-color: #434B5C;\n",
              "      box-shadow: 0px 1px 3px 1px rgba(0, 0, 0, 0.15);\n",
              "      filter: drop-shadow(0px 1px 2px rgba(0, 0, 0, 0.3));\n",
              "      fill: #FFFFFF;\n",
              "    }\n",
              "  </style>\n",
              "\n",
              "      <script>\n",
              "        const buttonEl =\n",
              "          document.querySelector('#df-c031f6c1-203d-4422-9230-4d3ec5372519 button.colab-df-convert');\n",
              "        buttonEl.style.display =\n",
              "          google.colab.kernel.accessAllowed ? 'block' : 'none';\n",
              "\n",
              "        async function convertToInteractive(key) {\n",
              "          const element = document.querySelector('#df-c031f6c1-203d-4422-9230-4d3ec5372519');\n",
              "          const dataTable =\n",
              "            await google.colab.kernel.invokeFunction('convertToInteractive',\n",
              "                                                     [key], {});\n",
              "          if (!dataTable) return;\n",
              "\n",
              "          const docLinkHtml = 'Like what you see? Visit the ' +\n",
              "            '<a target=\"_blank\" href=https://colab.research.google.com/notebooks/data_table.ipynb>data table notebook</a>'\n",
              "            + ' to learn more about interactive tables.';\n",
              "          element.innerHTML = '';\n",
              "          dataTable['output_type'] = 'display_data';\n",
              "          await google.colab.output.renderOutput(dataTable, element);\n",
              "          const docLink = document.createElement('div');\n",
              "          docLink.innerHTML = docLinkHtml;\n",
              "          element.appendChild(docLink);\n",
              "        }\n",
              "      </script>\n",
              "    </div>\n",
              "  </div>\n",
              "  "
            ],
            "text/plain": [
              "       IsDog     Age  HasName  NameLength  NameFreq  MixColor  ColorFreqAsIs  \\\n",
              "0          1   365.0        1           7  0.000157         1       0.032919   \n",
              "1          0   365.0        1           5  0.000655         0       0.008092   \n",
              "2          1   730.0        1           6  0.000052         1       0.026293   \n",
              "3          0    21.0        0           7  0.285871         0       0.000471   \n",
              "4          1   730.0        0           7  0.285871         0       0.023831   \n",
              "...      ...     ...      ...         ...       ...       ...            ...   \n",
              "26724      0    30.0        0           7  0.285871         1       0.034909   \n",
              "26725      0    90.0        0           7  0.285871         0       0.061778   \n",
              "26726      1  1460.0        1           4  0.001571         1       0.014587   \n",
              "26727      0    28.0        0           7  0.285871         0       0.085505   \n",
              "26728      0   365.0        0           7  0.285871         1       0.034909   \n",
              "\n",
              "       ColorFreqBase  TabbyColor  MixBreed  ...  SexStatus_Intact  \\\n",
              "0           0.463624           0         1  ...                 0   \n",
              "1           0.015005           1         1  ...                 0   \n",
              "2           0.357521           0         1  ...                 0   \n",
              "3           0.058418           0         1  ...                 1   \n",
              "4           0.075353           0         0  ...                 0   \n",
              "...              ...         ...       ...  ...               ...   \n",
              "26724       0.463624           1         1  ...                 1   \n",
              "26725       0.164522           1         1  ...                 0   \n",
              "26726       0.374455           0         1  ...                 0   \n",
              "26727       0.199270           0         1  ...                 1   \n",
              "26728       0.463624           1         1  ...                 1   \n",
              "\n",
              "       SexStatus_Unknown  Weekday_0  Weekday_1  Weekday_2  Weekday_3  \\\n",
              "0                      0          0          0          1          0   \n",
              "1                      0          0          0          0          0   \n",
              "2                      0          0          0          0          0   \n",
              "3                      0          0          0          0          0   \n",
              "4                      0          0          0          0          0   \n",
              "...                  ...        ...        ...        ...        ...   \n",
              "26724                  0          0          0          0          1   \n",
              "26725                  0          0          0          1          0   \n",
              "26726                  0          1          0          0          0   \n",
              "26727                  0          0          0          0          0   \n",
              "26728                  0          0          0          0          1   \n",
              "\n",
              "       Weekday_4  Weekday_5  Weekday_6  target  \n",
              "0              0          0          0       2  \n",
              "1              0          0          1       1  \n",
              "2              0          1          0       0  \n",
              "3              1          0          0       3  \n",
              "4              1          0          0       3  \n",
              "...          ...        ...        ...     ...  \n",
              "26724          0          0          0       3  \n",
              "26725          0          0          0       3  \n",
              "26726          0          0          0       0  \n",
              "26727          0          0          1       3  \n",
              "26728          0          0          0       3  \n",
              "\n",
              "[26729 rows x 38 columns]"
            ]
          },
          "execution_count": 119,
          "metadata": {},
          "output_type": "execute_result"
        }
      ],
      "source": [
        "animals"
      ]
    },
    {
      "cell_type": "markdown",
      "metadata": {
        "id": "vJhoFCiruDxg"
      },
      "source": [
        "В датасете находится около 27 тысяч наблюдений и 39 регрессоров. Посмотрим на то как выглядит распределение того, что произошло со зверятами по особям."
      ]
    },
    {
      "cell_type": "code",
      "execution_count": 67,
      "metadata": {
        "colab": {
          "base_uri": "https://localhost:8080/"
        },
        "id": "QMMUgau-uDxg",
        "outputId": "832b8edb-aca6-4fd1-c43f-a5ac515a5093"
      },
      "outputs": [
        {
          "data": {
            "text/plain": [
              "Adoption           10769\n",
              "Transfer            9422\n",
              "Return_to_owner     4786\n",
              "Euthanasia          1555\n",
              "Died                 197\n",
              "Name: target, dtype: int64"
            ]
          },
          "execution_count": 67,
          "metadata": {},
          "output_type": "execute_result"
        }
      ],
      "source": [
        "animals.target.value_counts()"
      ]
    },
    {
      "cell_type": "markdown",
      "metadata": {
        "id": "xgHgsw1HuDxg"
      },
      "source": [
        "Видим, что классы несбалансированы. Попробуем оставит четыре класса и объединить класс умерших животных с классом животных, которых усыпили. "
      ]
    },
    {
      "cell_type": "code",
      "execution_count": 68,
      "metadata": {
        "id": "T2x5uK64uDxh"
      },
      "outputs": [],
      "source": [
        "animals.loc[animals.target == 'Died', 'target'] = 'Euthanasia'"
      ]
    },
    {
      "cell_type": "markdown",
      "metadata": {
        "id": "AEqSUzcVuDxh"
      },
      "source": [
        "Закодируем классы."
      ]
    },
    {
      "cell_type": "code",
      "execution_count": 69,
      "metadata": {
        "colab": {
          "base_uri": "https://localhost:8080/"
        },
        "id": "gBkDDnd7uDxh",
        "outputId": "f6db30f9-d7cc-4ddc-8a15-4c43abc33544"
      },
      "outputs": [
        {
          "data": {
            "text/plain": [
              "0        2\n",
              "1        1\n",
              "2        0\n",
              "3        3\n",
              "4        3\n",
              "        ..\n",
              "26724    3\n",
              "26725    3\n",
              "26726    0\n",
              "26727    3\n",
              "26728    3\n",
              "Name: target, Length: 26729, dtype: int64"
            ]
          },
          "execution_count": 69,
          "metadata": {},
          "output_type": "execute_result"
        }
      ],
      "source": [
        "from sklearn.preprocessing import LabelEncoder\n",
        "le = LabelEncoder()\n",
        "animals['target'] = le.fit_transform(animals['target'])\n",
        "animals['target']"
      ]
    },
    {
      "cell_type": "code",
      "execution_count": 120,
      "metadata": {
        "colab": {
          "base_uri": "https://localhost:8080/"
        },
        "id": "TR2b9_7Z75nc",
        "outputId": "f27f5400-53e4-40d6-a0a7-990a541dc2d3"
      },
      "outputs": [
        {
          "data": {
            "text/plain": [
              "0    10769\n",
              "3     9422\n",
              "2     4786\n",
              "1     1752\n",
              "Name: target, dtype: int64"
            ]
          },
          "execution_count": 120,
          "metadata": {},
          "output_type": "execute_result"
        }
      ],
      "source": [
        "animals.target.value_counts()"
      ]
    },
    {
      "cell_type": "code",
      "execution_count": 70,
      "metadata": {
        "colab": {
          "base_uri": "https://localhost:8080/"
        },
        "id": "9y5pYULmuDxi",
        "outputId": "497b70a4-176c-45e1-c760-11c74de3c174"
      },
      "outputs": [
        {
          "data": {
            "text/plain": [
              "26729"
            ]
          },
          "execution_count": 70,
          "metadata": {},
          "output_type": "execute_result"
        }
      ],
      "source": [
        "len(animals['target'])"
      ]
    },
    {
      "cell_type": "code",
      "execution_count": 71,
      "metadata": {
        "colab": {
          "base_uri": "https://localhost:8080/"
        },
        "id": "iZ3DaFuBuDxi",
        "outputId": "c28690da-3584-4d83-99af-a039c25874a4"
      },
      "outputs": [
        {
          "data": {
            "text/plain": [
              "(26729, 38)"
            ]
          },
          "execution_count": 71,
          "metadata": {},
          "output_type": "execute_result"
        }
      ],
      "source": [
        "animals.shape"
      ]
    },
    {
      "cell_type": "markdown",
      "metadata": {
        "id": "oRZbRjnfuDxi"
      },
      "source": [
        "Разобьём выборку на тренировочную и тестовую. "
      ]
    },
    {
      "cell_type": "code",
      "execution_count": 72,
      "metadata": {
        "id": "sfnRs01r_p8a"
      },
      "outputs": [],
      "source": [
        "X = animals.drop('target', axis=1)\n",
        "y = animals['target']"
      ]
    },
    {
      "cell_type": "code",
      "execution_count": 73,
      "metadata": {
        "colab": {
          "base_uri": "https://localhost:8080/"
        },
        "id": "eKJ2YYSYuDxi",
        "outputId": "962504a4-39bb-48f4-d968-5aa5fd675439"
      },
      "outputs": [
        {
          "name": "stdout",
          "output_type": "stream",
          "text": [
            "(21383, 37)\n",
            "(5346, 37)\n"
          ]
        }
      ],
      "source": [
        "X_train, X_test, y_train, y_test = train_test_split(X, y, test_size=0.2, stratify = y, random_state = 42)\n",
        "\n",
        "print(X_train.shape)\n",
        "print(X_test.shape)"
      ]
    },
    {
      "cell_type": "markdown",
      "metadata": {
        "id": "hNCxTB40uDxj"
      },
      "source": [
        "Прежде, чем учить больших монстров, давайте построим какие-нибудь простые прогнозы, чтобы было с чем сравнить. Давайте построим наивный прогноз, а также обучим линейную регрессию и случайный лес.\n",
        "\n",
        "### Константный прогноз\n",
        "\n",
        "Построим константный прогноз, чтобы было с чем сравнивать и прогноз по какой-нибудь модели. "
      ]
    },
    {
      "cell_type": "code",
      "execution_count": 74,
      "metadata": {
        "colab": {
          "base_uri": "https://localhost:8080/"
        },
        "id": "KzY23JhXuDxj",
        "outputId": "f691bd08-8ae9-4f1d-f2d4-e65e27598362"
      },
      "outputs": [
        {
          "data": {
            "text/plain": [
              "array([0.40289015, 0.0655661 , 0.17906748, 0.35247627])"
            ]
          },
          "execution_count": 74,
          "metadata": {},
          "output_type": "execute_result"
        }
      ],
      "source": [
        "from sklearn.metrics import log_loss\n",
        "\n",
        "probas = np.array(y_train.value_counts(normalize=True).sort_index())\n",
        "probas"
      ]
    },
    {
      "cell_type": "code",
      "execution_count": 75,
      "metadata": {
        "colab": {
          "base_uri": "https://localhost:8080/"
        },
        "id": "hR2lsTr9uDxj",
        "outputId": "c13a36d7-3694-44b4-b97b-fa410c25fb0d"
      },
      "outputs": [
        {
          "name": "stdout",
          "output_type": "stream",
          "text": [
            "Train: 1.2205\n",
            "Test: 1.2203\n"
          ]
        }
      ],
      "source": [
        "# Посмотрим метрику на трейне и тесте\n",
        "print(f'Train: {round(log_loss(y_train, np.tile(probas, X_train.shape[0]).reshape(-1, 4)), 4)}\\nTest: {round(log_loss(y_test, np.tile(probas, X_test.shape[0]).reshape(-1, 4)), 4)}')"
      ]
    },
    {
      "cell_type": "code",
      "execution_count": 76,
      "metadata": {
        "colab": {
          "base_uri": "https://localhost:8080/"
        },
        "id": "Fc5dkxeZ0JDN",
        "outputId": "725e6cc6-e1d9-452b-8867-13a816809657"
      },
      "outputs": [
        {
          "name": "stdout",
          "output_type": "stream",
          "text": [
            "Train: 0.4029\n",
            "Test: 0.4029\n"
          ]
        }
      ],
      "source": [
        "# Посмотрим точность на трейне и тесте\n",
        "print(f'Train: {round(accuracy_score(y_train, np.tile(np.argmax(probas), X_train.shape[0])), 4)}\\nTest: {round(accuracy_score(y_test, np.tile(np.argmax(probas), X_test.shape[0])), 4)}')"
      ]
    },
    {
      "cell_type": "markdown",
      "metadata": {
        "id": "d1qAPw0suDxk"
      },
      "source": [
        "### Логистическая регрессия"
      ]
    },
    {
      "cell_type": "code",
      "execution_count": 77,
      "metadata": {
        "colab": {
          "base_uri": "https://localhost:8080/"
        },
        "id": "-S23KmU_uDxk",
        "outputId": "fbf54190-f453-4769-e0a6-127d250b23b0"
      },
      "outputs": [
        {
          "name": "stdout",
          "output_type": "stream",
          "text": [
            "Train: 1.0647\n",
            "Test: 1.0691\n"
          ]
        }
      ],
      "source": [
        "from sklearn.linear_model import LogisticRegression\n",
        "\n",
        "logreg = LogisticRegression( )\n",
        "\n",
        "# Обучим на трейне\n",
        "logreg.fit(X_train, y_train)\n",
        "\n",
        "# Посмотрим метрику на трейне и тесте\n",
        "print(f'Train: {round(log_loss(y_train, logreg.predict_proba(X_train)), 4)}\\nTest: {round(log_loss(y_test, logreg.predict_proba(X_test)), 4)}')"
      ]
    },
    {
      "cell_type": "code",
      "execution_count": 78,
      "metadata": {
        "colab": {
          "base_uri": "https://localhost:8080/"
        },
        "id": "RlqC1zoF01Uq",
        "outputId": "8d7e97a6-4c18-43fe-8abe-0aa0a4d4ba44"
      },
      "outputs": [
        {
          "data": {
            "text/plain": [
              "array([3, 3, 0, ..., 3, 3, 0])"
            ]
          },
          "execution_count": 78,
          "metadata": {},
          "output_type": "execute_result"
        }
      ],
      "source": [
        "np.argmax(logreg.predict_proba(X_train), axis=1)"
      ]
    },
    {
      "cell_type": "code",
      "execution_count": 79,
      "metadata": {
        "colab": {
          "base_uri": "https://localhost:8080/"
        },
        "id": "XwBsY9SE0qPC",
        "outputId": "766b6723-22ff-4400-fbaf-47e3f79fdc91"
      },
      "outputs": [
        {
          "name": "stdout",
          "output_type": "stream",
          "text": [
            "Train: 0.5527\n",
            "Test: 0.5529\n"
          ]
        }
      ],
      "source": [
        "# Посмотрим точность на трейне и тесте\n",
        "print(f'Train: {round(accuracy_score(y_train, np.argmax(logreg.predict_proba(X_train), axis=1)), 4)}\\nTest: {round(accuracy_score(y_test, np.argmax(logreg.predict_proba(X_test), axis=1)), 4)}')"
      ]
    },
    {
      "cell_type": "code",
      "execution_count": 80,
      "metadata": {
        "colab": {
          "base_uri": "https://localhost:8080/"
        },
        "id": "63qOnhM-uDxk",
        "outputId": "0c768375-c344-417a-cd08-082f1ac2910e"
      },
      "outputs": [
        {
          "data": {
            "text/plain": [
              "array([[0.18708765, 0.0670514 , 0.04653551, 0.69932544],\n",
              "       [0.71548854, 0.02923199, 0.10843159, 0.14684789],\n",
              "       [0.52375807, 0.03809741, 0.18069257, 0.25745195],\n",
              "       ...,\n",
              "       [0.77509781, 0.01024879, 0.17602537, 0.03862803],\n",
              "       [0.22847272, 0.05773964, 0.03826507, 0.67552257],\n",
              "       [0.66541118, 0.03011927, 0.12082774, 0.18364181]])"
            ]
          },
          "execution_count": 80,
          "metadata": {},
          "output_type": "execute_result"
        }
      ],
      "source": [
        "logreg.predict_proba(X_test) # 4 колонки, по одной на каждый класс"
      ]
    },
    {
      "cell_type": "markdown",
      "metadata": {
        "id": "sKFIczCvuDxk"
      },
      "source": [
        "### Случайный лес "
      ]
    },
    {
      "cell_type": "code",
      "execution_count": 81,
      "metadata": {
        "colab": {
          "base_uri": "https://localhost:8080/"
        },
        "id": "eUDh2xgeuDxl",
        "outputId": "ebf9d1b7-e5c4-41c2-9a20-1a8bb08c628b",
        "scrolled": true
      },
      "outputs": [
        {
          "name": "stdout",
          "output_type": "stream",
          "text": [
            "Train: 0.1817\n",
            "Test: 0.7676\n"
          ]
        }
      ],
      "source": [
        "from sklearn.ensemble import RandomForestClassifier\n",
        "\n",
        "rf = RandomForestClassifier(n_estimators=1000, n_jobs=3)\n",
        "\n",
        "# Обучим на тесте\n",
        "rf.fit(X_train, y_train)\n",
        "\n",
        "# Посмотрим метрику на трейне и тесте\n",
        "print(f'Train: {round(log_loss(y_train, rf.predict_proba(X_train)), 4)}\\nTest: {round(log_loss(y_test, rf.predict_proba(X_test)), 4)}')"
      ]
    },
    {
      "cell_type": "code",
      "execution_count": 82,
      "metadata": {
        "colab": {
          "base_uri": "https://localhost:8080/"
        },
        "id": "YbGyNzEL1HwA",
        "outputId": "182b0b00-83c1-45a9-a94b-4d8b9966624f"
      },
      "outputs": [
        {
          "name": "stdout",
          "output_type": "stream",
          "text": [
            "Train: 1.0\n",
            "Test: 0.6912\n"
          ]
        }
      ],
      "source": [
        "# Посмотрим точность на трейне и тесте\n",
        "print(f'Train: {round(accuracy_score(y_train, np.argmax(rf.predict_proba(X_train), axis=1)), 4)}\\nTest: {round(accuracy_score(y_test, np.argmax(rf.predict_proba(X_test), axis=1)), 4)}')"
      ]
    },
    {
      "cell_type": "markdown",
      "metadata": {
        "id": "pbEv_bvruDxl"
      },
      "source": [
        "Неплохой результат. Попробуем улучшить его с помощью нейросеток. "
      ]
    },
    {
      "cell_type": "markdown",
      "metadata": {
        "id": "3z0rwi2WuDxl"
      },
      "source": [
        "## 2. Собираем свою нейросеть"
      ]
    },
    {
      "cell_type": "markdown",
      "metadata": {
        "id": "QiTX0GbpuDxl"
      },
      "source": [
        "# Пример библиотеки использования верхнеуровневого API"
      ]
    },
    {
      "cell_type": "markdown",
      "metadata": {
        "id": "U7vk20ocuDxm"
      },
      "source": [
        "# FAST.AI"
      ]
    },
    {
      "cell_type": "code",
      "execution_count": 83,
      "metadata": {
        "id": "lijHUK5HuDxm"
      },
      "outputs": [],
      "source": [
        "from fastai.tabular.all import *"
      ]
    },
    {
      "cell_type": "markdown",
      "metadata": {
        "id": "gVyStBrVuDxm"
      },
      "source": [
        "Загрузим датасет, где необходимо предсказать, будет ли человек зарабатывать больше $50K в год."
      ]
    },
    {
      "cell_type": "code",
      "execution_count": 84,
      "metadata": {
        "id": "OA3YZubSIU8s"
      },
      "outputs": [],
      "source": [
        "cat_names = [\n",
        "    'IsDog',\n",
        "    'HasName',\n",
        "    'MixColor',\n",
        "    'TabbyColor',\n",
        "    'MixBreed',\n",
        "    'Domestic',\n",
        "    'Shorthair',\n",
        "    'Longhair',\n",
        "    'Breed_Chihuahua Shorthair Mix',\n",
        "    'Breed_Domestic Medium Hair Mix',\n",
        "    'Breed_Domestic Shorthair Mix',\n",
        "    'Breed_German Shepherd Mix',\n",
        "    'Breed_Labrador Retriever Mix',\n",
        "    'Breed_Pit Bull Mix',\n",
        "    'Breed_Rare',\n",
        "    'Sex_Female',\n",
        "    'Sex_Male',\n",
        "    'Sex_Unknown',\n",
        "    'SexStatus_Flawed',\n",
        "    'SexStatus_Intact',\n",
        "    'SexStatus_Unknown',\n",
        "    'Weekday_0',\n",
        "    'Weekday_1',\n",
        "    'Weekday_2',\n",
        "    'Weekday_3',\n",
        "    'Weekday_4',\n",
        "    'Weekday_5',\n",
        "    'Weekday_6'\n",
        "]"
      ]
    },
    {
      "cell_type": "code",
      "execution_count": 85,
      "metadata": {
        "id": "pja6_ocYIlOl"
      },
      "outputs": [],
      "source": [
        "cont_names = ['Age', 'ColorFreqAsIs', 'ColorFreqBase', 'Year', 'Month', 'Day', 'Hour']"
      ]
    },
    {
      "cell_type": "code",
      "execution_count": 86,
      "metadata": {
        "id": "UY8Hb-KquDxn"
      },
      "outputs": [],
      "source": [
        "splitter = IndexSplitter(X_train.index)\n",
        "splits = splitter(animals)"
      ]
    },
    {
      "cell_type": "code",
      "execution_count": 87,
      "metadata": {
        "id": "hWi6ZECjuDxo"
      },
      "outputs": [],
      "source": [
        "tab_data = TabularPandas(animals,\n",
        "                         procs=[Categorify, FillMissing, Normalize],\n",
        "                         cat_names = cat_names,\n",
        "                         cont_names = cont_names,\n",
        "                         y_names='target',\n",
        "                         y_block=CategoryBlock,\n",
        "                         splits=splits)"
      ]
    },
    {
      "cell_type": "code",
      "execution_count": 88,
      "metadata": {
        "id": "laCxt2J0uDxo"
      },
      "outputs": [],
      "source": [
        "dataloader = tab_data.dataloaders(bs=128)"
      ]
    },
    {
      "cell_type": "code",
      "execution_count": 89,
      "metadata": {
        "id": "lYSCoBMEuDxp"
      },
      "outputs": [],
      "source": [
        "learn = tabular_learner(dataloader, metrics=accuracy)"
      ]
    },
    {
      "cell_type": "code",
      "execution_count": 90,
      "metadata": {
        "colab": {
          "base_uri": "https://localhost:8080/",
          "height": 363
        },
        "id": "IY_1iHv_uDxp",
        "outputId": "a2c70d54-538a-4339-e33c-5715a8a797ba"
      },
      "outputs": [
        {
          "data": {
            "text/html": [
              "\n",
              "<style>\n",
              "    /* Turns off some styling */\n",
              "    progress {\n",
              "        /* gets rid of default border in Firefox and Opera. */\n",
              "        border: none;\n",
              "        /* Needs to be in here for Safari polyfill so background images work as expected. */\n",
              "        background-size: auto;\n",
              "    }\n",
              "    progress:not([value]), progress:not([value])::-webkit-progress-bar {\n",
              "        background: repeating-linear-gradient(45deg, #7e7e7e, #7e7e7e 10px, #5c5c5c 10px, #5c5c5c 20px);\n",
              "    }\n",
              "    .progress-bar-interrupted, .progress-bar-interrupted::-webkit-progress-bar {\n",
              "        background: #F44336;\n",
              "    }\n",
              "</style>\n"
            ],
            "text/plain": [
              "<IPython.core.display.HTML object>"
            ]
          },
          "metadata": {},
          "output_type": "display_data"
        },
        {
          "data": {
            "text/html": [
              "<table border=\"1\" class=\"dataframe\">\n",
              "  <thead>\n",
              "    <tr style=\"text-align: left;\">\n",
              "      <th>epoch</th>\n",
              "      <th>train_loss</th>\n",
              "      <th>valid_loss</th>\n",
              "      <th>accuracy</th>\n",
              "      <th>time</th>\n",
              "    </tr>\n",
              "  </thead>\n",
              "  <tbody>\n",
              "    <tr>\n",
              "      <td>0</td>\n",
              "      <td>1.358729</td>\n",
              "      <td>1.328346</td>\n",
              "      <td>0.418978</td>\n",
              "      <td>00:01</td>\n",
              "    </tr>\n",
              "    <tr>\n",
              "      <td>1</td>\n",
              "      <td>1.262124</td>\n",
              "      <td>1.112967</td>\n",
              "      <td>0.557452</td>\n",
              "      <td>00:01</td>\n",
              "    </tr>\n",
              "    <tr>\n",
              "      <td>2</td>\n",
              "      <td>1.087690</td>\n",
              "      <td>0.928573</td>\n",
              "      <td>0.636113</td>\n",
              "      <td>00:01</td>\n",
              "    </tr>\n",
              "    <tr>\n",
              "      <td>3</td>\n",
              "      <td>0.968931</td>\n",
              "      <td>0.876396</td>\n",
              "      <td>0.645373</td>\n",
              "      <td>00:01</td>\n",
              "    </tr>\n",
              "    <tr>\n",
              "      <td>4</td>\n",
              "      <td>0.894087</td>\n",
              "      <td>0.856233</td>\n",
              "      <td>0.649441</td>\n",
              "      <td>00:01</td>\n",
              "    </tr>\n",
              "    <tr>\n",
              "      <td>5</td>\n",
              "      <td>0.844729</td>\n",
              "      <td>0.847502</td>\n",
              "      <td>0.652528</td>\n",
              "      <td>00:01</td>\n",
              "    </tr>\n",
              "    <tr>\n",
              "      <td>6</td>\n",
              "      <td>0.805753</td>\n",
              "      <td>0.841617</td>\n",
              "      <td>0.651546</td>\n",
              "      <td>00:01</td>\n",
              "    </tr>\n",
              "    <tr>\n",
              "      <td>7</td>\n",
              "      <td>0.775642</td>\n",
              "      <td>0.834138</td>\n",
              "      <td>0.653042</td>\n",
              "      <td>00:01</td>\n",
              "    </tr>\n",
              "    <tr>\n",
              "      <td>8</td>\n",
              "      <td>0.756314</td>\n",
              "      <td>0.833185</td>\n",
              "      <td>0.652154</td>\n",
              "      <td>00:01</td>\n",
              "    </tr>\n",
              "    <tr>\n",
              "      <td>9</td>\n",
              "      <td>0.739710</td>\n",
              "      <td>0.832305</td>\n",
              "      <td>0.652762</td>\n",
              "      <td>00:01</td>\n",
              "    </tr>\n",
              "  </tbody>\n",
              "</table>"
            ],
            "text/plain": [
              "<IPython.core.display.HTML object>"
            ]
          },
          "metadata": {},
          "output_type": "display_data"
        }
      ],
      "source": [
        "learn.fit_one_cycle(10)"
      ]
    },
    {
      "cell_type": "markdown",
      "metadata": {
        "id": "1LJlyTSmuDxq"
      },
      "source": [
        "# Vanilla PyTorch"
      ]
    },
    {
      "cell_type": "code",
      "execution_count": 91,
      "metadata": {
        "id": "fa-YiN-auDxl"
      },
      "outputs": [],
      "source": [
        "INPUT_SIZE = 37\n",
        "HIDDEN_SIZE = 25\n",
        "OUTPUT_SIZE = 4\n",
        "LEARNING_RATE = 1e-3\n",
        "EPOCHS = 100\n",
        "BATCH_SIZE = 128"
      ]
    },
    {
      "cell_type": "markdown",
      "metadata": {
        "id": "PzDUxKRnuDxq"
      },
      "source": [
        "Код представленный выше от fastai значительно упрощает работу с нейронными сетями, но не дает понять, что же происходит на самом деле. Поэтому на первых порах лучше все писать самим. Для этого обратимся к первоисточнику, а именно к оригинальному PyTorch, с которого все началось. И для начала разберем все этапы работы с нейронной сети в упрощенной форме. "
      ]
    },
    {
      "cell_type": "code",
      "execution_count": 92,
      "metadata": {
        "colab": {
          "base_uri": "https://localhost:8080/"
        },
        "id": "lwnaxTyW8Qhl",
        "outputId": "f06fda3c-d8f7-40cb-ac7e-4592fb3b306e"
      },
      "outputs": [
        {
          "name": "stdout",
          "output_type": "stream",
          "text": [
            "\u001b[?25l\r\u001b[K     |▋                               | 10 kB 5.2 MB/s eta 0:00:01\r\u001b[K     |█▎                              | 20 kB 2.6 MB/s eta 0:00:01\r\u001b[K     |█▉                              | 30 kB 3.7 MB/s eta 0:00:01\r\u001b[K     |██▌                             | 40 kB 1.6 MB/s eta 0:00:01\r\u001b[K     |███                             | 51 kB 1.8 MB/s eta 0:00:01\r\u001b[K     |███▊                            | 61 kB 2.1 MB/s eta 0:00:01\r\u001b[K     |████▍                           | 71 kB 2.3 MB/s eta 0:00:01\r\u001b[K     |█████                           | 81 kB 2.5 MB/s eta 0:00:01\r\u001b[K     |█████▋                          | 92 kB 2.6 MB/s eta 0:00:01\r\u001b[K     |██████▏                         | 102 kB 2.1 MB/s eta 0:00:01\r\u001b[K     |██████▉                         | 112 kB 2.1 MB/s eta 0:00:01\r\u001b[K     |███████▍                        | 122 kB 2.1 MB/s eta 0:00:01\r\u001b[K     |████████                        | 133 kB 2.1 MB/s eta 0:00:01\r\u001b[K     |████████▊                       | 143 kB 2.1 MB/s eta 0:00:01\r\u001b[K     |█████████▎                      | 153 kB 2.1 MB/s eta 0:00:01\r\u001b[K     |██████████                      | 163 kB 2.1 MB/s eta 0:00:01\r\u001b[K     |██████████▌                     | 174 kB 2.1 MB/s eta 0:00:01\r\u001b[K     |███████████▏                    | 184 kB 2.1 MB/s eta 0:00:01\r\u001b[K     |███████████▊                    | 194 kB 2.1 MB/s eta 0:00:01\r\u001b[K     |████████████▍                   | 204 kB 2.1 MB/s eta 0:00:01\r\u001b[K     |█████████████                   | 215 kB 2.1 MB/s eta 0:00:01\r\u001b[K     |█████████████▋                  | 225 kB 2.1 MB/s eta 0:00:01\r\u001b[K     |██████████████▎                 | 235 kB 2.1 MB/s eta 0:00:01\r\u001b[K     |██████████████▉                 | 245 kB 2.1 MB/s eta 0:00:01\r\u001b[K     |███████████████▌                | 256 kB 2.1 MB/s eta 0:00:01\r\u001b[K     |████████████████                | 266 kB 2.1 MB/s eta 0:00:01\r\u001b[K     |████████████████▊               | 276 kB 2.1 MB/s eta 0:00:01\r\u001b[K     |█████████████████▍              | 286 kB 2.1 MB/s eta 0:00:01\r\u001b[K     |██████████████████              | 296 kB 2.1 MB/s eta 0:00:01\r\u001b[K     |██████████████████▋             | 307 kB 2.1 MB/s eta 0:00:01\r\u001b[K     |███████████████████▏            | 317 kB 2.1 MB/s eta 0:00:01\r\u001b[K     |███████████████████▉            | 327 kB 2.1 MB/s eta 0:00:01\r\u001b[K     |████████████████████▍           | 337 kB 2.1 MB/s eta 0:00:01\r\u001b[K     |█████████████████████           | 348 kB 2.1 MB/s eta 0:00:01\r\u001b[K     |█████████████████████▊          | 358 kB 2.1 MB/s eta 0:00:01\r\u001b[K     |██████████████████████▎         | 368 kB 2.1 MB/s eta 0:00:01\r\u001b[K     |███████████████████████         | 378 kB 2.1 MB/s eta 0:00:01\r\u001b[K     |███████████████████████▌        | 389 kB 2.1 MB/s eta 0:00:01\r\u001b[K     |████████████████████████▏       | 399 kB 2.1 MB/s eta 0:00:01\r\u001b[K     |████████████████████████▊       | 409 kB 2.1 MB/s eta 0:00:01\r\u001b[K     |█████████████████████████▍      | 419 kB 2.1 MB/s eta 0:00:01\r\u001b[K     |██████████████████████████      | 430 kB 2.1 MB/s eta 0:00:01\r\u001b[K     |██████████████████████████▋     | 440 kB 2.1 MB/s eta 0:00:01\r\u001b[K     |███████████████████████████▎    | 450 kB 2.1 MB/s eta 0:00:01\r\u001b[K     |███████████████████████████▉    | 460 kB 2.1 MB/s eta 0:00:01\r\u001b[K     |████████████████████████████▌   | 471 kB 2.1 MB/s eta 0:00:01\r\u001b[K     |█████████████████████████████   | 481 kB 2.1 MB/s eta 0:00:01\r\u001b[K     |█████████████████████████████▊  | 491 kB 2.1 MB/s eta 0:00:01\r\u001b[K     |██████████████████████████████▍ | 501 kB 2.1 MB/s eta 0:00:01\r\u001b[K     |███████████████████████████████ | 512 kB 2.1 MB/s eta 0:00:01\r\u001b[K     |███████████████████████████████▋| 522 kB 2.1 MB/s eta 0:00:01\r\u001b[K     |████████████████████████████████| 529 kB 2.1 MB/s \n",
            "\u001b[?25h"
          ]
        }
      ],
      "source": [
        "!pip install torchmetrics -q"
      ]
    },
    {
      "cell_type": "code",
      "execution_count": 93,
      "metadata": {
        "id": "2m8Twhp0uDxr"
      },
      "outputs": [],
      "source": [
        "import torch.nn as nn # содержит функции для реалзации архитектуры нейронных сетей\n",
        "import torch.nn.functional as F # содержит различные функции активации и не только\n",
        "import torch.optim as optim\n",
        "import torch.utils.data as data_utils\n",
        "\n",
        "from torchmetrics import Accuracy"
      ]
    },
    {
      "cell_type": "markdown",
      "metadata": {
        "id": "08y2w7cuuDxr"
      },
      "source": [
        "Для того чтобы подавать данные в нейронную сеть, создадим `DataLoader`, который предоставляет гибкий API для работы с входными данными."
      ]
    },
    {
      "cell_type": "markdown",
      "metadata": {
        "id": "FCqF3N4UuDxs"
      },
      "source": [
        "Создание __DataLoader__ для обучения сети"
      ]
    },
    {
      "cell_type": "code",
      "execution_count": 94,
      "metadata": {
        "id": "W9TWMcnjuDxs"
      },
      "outputs": [],
      "source": [
        "def create_data_loader(X_train, y_train, X_test, y_test):\n",
        "    train_tensor = data_utils.TensorDataset(torch.tensor(X_train.astype(np.float32)), torch.tensor(y_train))\n",
        "    train_loader = data_utils.DataLoader(dataset=train_tensor,\n",
        "                                         batch_size=BATCH_SIZE,\n",
        "                                         shuffle=True)\n",
        "\n",
        "    test_tensor = data_utils.TensorDataset(torch.tensor(X_test.astype(np.float32)), torch.tensor(y_test))\n",
        "    test_loader = data_utils.DataLoader(dataset=test_tensor,\n",
        "                                        batch_size=BATCH_SIZE,\n",
        "                                        shuffle=False)\n",
        "    return train_loader, test_loader"
      ]
    },
    {
      "cell_type": "code",
      "execution_count": 95,
      "metadata": {
        "id": "Gwh8fbRZU2vL"
      },
      "outputs": [],
      "source": [
        "from sklearn.preprocessing import StandardScaler"
      ]
    },
    {
      "cell_type": "code",
      "execution_count": 96,
      "metadata": {
        "id": "dUIXuVoAVELO"
      },
      "outputs": [],
      "source": [
        "# sc = StandardScaler()\n",
        "# sc.fit(X_train.values)"
      ]
    },
    {
      "cell_type": "code",
      "execution_count": 97,
      "metadata": {
        "id": "w4gZWweDuDxs"
      },
      "outputs": [],
      "source": [
        "train_loader, test_loader = create_data_loader(X_train.values, y_train.values, X_test.values, y_test.values)"
      ]
    },
    {
      "cell_type": "markdown",
      "metadata": {
        "id": "Ye2i3uleuDxs"
      },
      "source": [
        "__Архитектура модели__"
      ]
    },
    {
      "cell_type": "markdown",
      "metadata": {
        "id": "or2U3EpAuDxs"
      },
      "source": [
        "Архитектуру нейронной сети в PyTorch можно описать нескольками способами, в дальнейшем мы рассмотрим их более подробно. Сейчас предлагается сделать это используя `Sequential`.\n",
        "`Sequential` -- это последовательный способ объявления каждой компоненты архитектуры нейронной сети."
      ]
    },
    {
      "cell_type": "code",
      "execution_count": 112,
      "metadata": {
        "id": "ZQWHF8-fuDxs"
      },
      "outputs": [],
      "source": [
        "def build_simple_model():\n",
        "    # Sequential - наборс последовательных слоёв\n",
        "    model = nn.Sequential(  \n",
        "        # Добавляем в нашу модель первый слой из 25 нейронов\n",
        "        nn.Linear(in_features=INPUT_SIZE, out_features=HIDDEN_SIZE),\n",
        "        nn.Sigmoid(),\n",
        "        \n",
        "        # Добавляем ещё один слой из 25 нейронов\n",
        "        nn.Linear(in_features=HIDDEN_SIZE, out_features=HIDDEN_SIZE),\n",
        "        nn.Sigmoid(),\n",
        "        \n",
        "        # Выходной вектор на количество классов, получаем с помощью такого же линейного приеобразования,\n",
        "        # как и предыдущие слои, но уже на нужное количество выходных нейронов (т.е. классов)\n",
        "        nn.Linear(in_features=HIDDEN_SIZE, out_features=OUTPUT_SIZE),\n",
        "        nn.Softmax(),\n",
        "    )\n",
        "\n",
        "    return model"
      ]
    },
    {
      "cell_type": "code",
      "execution_count": 113,
      "metadata": {
        "id": "4b-6Jb6ouDxt"
      },
      "outputs": [],
      "source": [
        "model = build_simple_model()"
      ]
    },
    {
      "cell_type": "code",
      "execution_count": 114,
      "metadata": {
        "colab": {
          "base_uri": "https://localhost:8080/"
        },
        "id": "6egqtRhguDxt",
        "outputId": "4d29d52d-751a-4cbc-96f9-bab2d372391d"
      },
      "outputs": [
        {
          "name": "stdout",
          "output_type": "stream",
          "text": [
            "Sequential(\n",
            "  (0): Linear(in_features=37, out_features=25, bias=True)\n",
            "  (1): Sigmoid()\n",
            "  (2): Linear(in_features=25, out_features=25, bias=True)\n",
            "  (3): Sigmoid()\n",
            "  (4): Linear(in_features=25, out_features=4, bias=True)\n",
            "  (5): Softmax(dim=None)\n",
            ")\n"
          ]
        }
      ],
      "source": [
        "print(model)"
      ]
    },
    {
      "cell_type": "markdown",
      "metadata": {
        "id": "W0fomrTZuDxt"
      },
      "source": [
        "Обратите внимание, что последняя функция в в архитектуре сети -- это `Softmax`. Напомним, что `Softamx` используется для задачи классификации, чтобы получить значение увернности сети по каждому классу. Получается вектор на заданное количество классов, где наибольшее значение в какой-либо координате говорит о том, что сеть считает данный класс наиболее подходящим для данного наблюдения."
      ]
    },
    {
      "cell_type": "markdown",
      "metadata": {
        "id": "f5JqUm-huDxt"
      },
      "source": [
        "Отлично! Только что мы собрали свою первую нейросеть со скрытым слоем. Осталось ее обучить."
      ]
    },
    {
      "cell_type": "markdown",
      "metadata": {
        "id": "jcDXrD0quDxt"
      },
      "source": [
        "__Обучение модели__"
      ]
    },
    {
      "cell_type": "markdown",
      "metadata": {
        "id": "gN2AES7ouDxt"
      },
      "source": [
        "Перед тем как обучать нашу нейросеть, нужно задать параметры обучения. \n",
        "- Во-первых, метод оптимизации. \n",
        "- Во-вторых, функцию потерь. \n",
        "- В-третьих, парочку метрик, на которые нам хотелось бы смотреть в процессе обучения.  "
      ]
    },
    {
      "cell_type": "code",
      "execution_count": 115,
      "metadata": {
        "id": "_xc8n5qjuDxt"
      },
      "outputs": [],
      "source": [
        "# Оптимизатор\n",
        "optimizer = optim.Adam(model.parameters(), lr=LEARNING_RATE)\n",
        "\n",
        "# Функция потерь\n",
        "criterion = nn.CrossEntropyLoss()\n",
        "\n",
        "# Метрика\n",
        "accuracy = Accuracy()\n",
        "\n",
        "# softmax = nn.Softmax()"
      ]
    },
    {
      "cell_type": "markdown",
      "metadata": {
        "id": "8d5yY7W5uDxu"
      },
      "source": [
        "Создадим массивы, куда будем складывать значение целевой функции на обучающей и валиационной выборках, а также точность."
      ]
    },
    {
      "cell_type": "markdown",
      "metadata": {
        "id": "TlWyp6o9uDxu"
      },
      "source": [
        "Ниже представлен код __обучения__ сети. Нужно обратить внимание на несколько моментов:\n",
        "1. Обучение ведется в течение нескольких эпох -- что значит несколько проходов по выборке.\n",
        "2. `train_loader` позволяет итеративно проходится по выборке и на каждой итерации получать батч заранее заданного размера.\n",
        "3. На каждом шаге обнуляем градиенты `optimizer.zero_grad()`, чтобы не накапливать их, тем самым неккоректно обновлять веса.\n",
        "4. Вызывать явно `loss.backward()` для вычисления градиентов.\n",
        "5. Вызывать явно `optimizer.step()` для обновления весов."
      ]
    },
    {
      "cell_type": "code",
      "execution_count": 116,
      "metadata": {
        "id": "VAN_nBNsuDxu"
      },
      "outputs": [],
      "source": [
        "train_loss_values = []\n",
        "train_accuracy_values = []\n",
        "valid_loss_values = []\n",
        "valid_accuracy = []\n",
        "\n",
        "def run_train():\n",
        "    step = 0\n",
        "\n",
        "    # Epochs\n",
        "    for epoch in range(EPOCHS):\n",
        "        running_loss = []\n",
        "        running_acc = []\n",
        "        model.train()\n",
        "        for features, label in train_loader:\n",
        "            # Reset gradients\n",
        "            optimizer.zero_grad()\n",
        "\n",
        "            output = model(features)\n",
        "            # Calculate error and backpropagate\n",
        "            loss = criterion(output, label)\n",
        "            loss.backward()\n",
        "            \n",
        "            # softmax_output = softmax(output)\n",
        "            acc = accuracy(output, label).item()\n",
        "\n",
        "            # Update weights with gradients\n",
        "            optimizer.step()\n",
        "\n",
        "            running_loss.append(loss.item())\n",
        "            running_acc.append(acc)\n",
        "\n",
        "            step += 1\n",
        "\n",
        "        train_loss_values.append(np.mean(running_loss))\n",
        "        train_accuracy_values.append(np.mean(running_acc))\n",
        "        if epoch % 20 == 0:\n",
        "            print('EPOCH %d : train_loss: %f train_acc: %f' % (epoch, train_loss_values[-1], train_accuracy_values[-1]))\n",
        "\n",
        "\n",
        "        # Run validation\n",
        "        running_loss = []\n",
        "        running_acc = []\n",
        "        model.eval()\n",
        "        for features, label in test_loader:\n",
        "            output = model(features)\n",
        "            # Calculate error and backpropagate\n",
        "            loss = criterion(output, label)\n",
        "            \n",
        "            # softmax_output = softmax(output)\n",
        "            acc = accuracy(output, label).item()\n",
        "\n",
        "            running_loss.append(loss.item())\n",
        "            running_acc.append(acc)\n",
        "\n",
        "        valid_loss_values.append(np.mean(running_loss))\n",
        "        valid_accuracy.append(np.mean(running_acc))\n",
        "        if epoch % 20 == 0:\n",
        "            print('EPOCH %d : valid_loss: %f valid_acc: %f' % (epoch, valid_loss_values[-1], valid_accuracy[-1]))\n",
        "        \n",
        "    return train_loss_values, train_accuracy_values, valid_loss_values, valid_accuracy"
      ]
    },
    {
      "cell_type": "code",
      "execution_count": 117,
      "metadata": {
        "colab": {
          "base_uri": "https://localhost:8080/"
        },
        "id": "5tFwmXlNuDxu",
        "outputId": "c7a6afdd-0276-4316-b009-3e2ee4e674a2"
      },
      "outputs": [
        {
          "name": "stdout",
          "output_type": "stream",
          "text": [
            "EPOCH 0 : train_loss: 1.325236 train_acc: 0.372934\n",
            "EPOCH 0 : valid_loss: 1.293656 valid_acc: 0.402833\n",
            "EPOCH 20 : train_loss: 1.158143 train_acc: 0.597743\n",
            "EPOCH 20 : valid_loss: 1.162040 valid_acc: 0.582715\n",
            "EPOCH 40 : train_loss: 1.109349 train_acc: 0.623718\n",
            "EPOCH 40 : valid_loss: 1.109659 valid_acc: 0.624195\n",
            "EPOCH 60 : train_loss: 1.111967 train_acc: 0.619911\n",
            "EPOCH 60 : valid_loss: 1.115173 valid_acc: 0.615711\n",
            "EPOCH 80 : train_loss: 1.110681 train_acc: 0.620728\n",
            "EPOCH 80 : valid_loss: 1.113535 valid_acc: 0.616383\n"
          ]
        }
      ],
      "source": [
        "train_loss_values, train_accuracy_values, valid_loss_values, valid_accuracy_values = run_train()"
      ]
    },
    {
      "cell_type": "markdown",
      "metadata": {
        "id": "4y7sK9j3uDxu"
      },
      "source": [
        " Посмотрим на динамику ошибки и значение точности нашей модели во времени."
      ]
    },
    {
      "cell_type": "code",
      "execution_count": 104,
      "metadata": {
        "colab": {
          "base_uri": "https://localhost:8080/",
          "height": 282
        },
        "id": "jQyHap8ruDxu",
        "outputId": "5b5f7135-1621-4830-e1e3-05293666c7b7"
      },
      "outputs": [
        {
          "data": {
            "text/plain": [
              "<matplotlib.legend.Legend at 0x7fd83f49f990>"
            ]
          },
          "execution_count": 104,
          "metadata": {},
          "output_type": "execute_result"
        },
        {
          "data": {
            "image/png": "[encoded data removed]",
            "text/plain": [
              "<Figure size 432x288 with 1 Axes>"
            ]
          },
          "metadata": {
            "needs_background": "light"
          },
          "output_type": "display_data"
        }
      ],
      "source": [
        "start = 0\n",
        "plt.plot(train_loss_values[start:], label='train')\n",
        "plt.plot(valid_loss_values[start:], label='valid')\n",
        "plt.legend()"
      ]
    },
    {
      "cell_type": "code",
      "execution_count": 105,
      "metadata": {
        "colab": {
          "base_uri": "https://localhost:8080/",
          "height": 282
        },
        "id": "iM-ft7ReuDxu",
        "outputId": "e5b1f845-e7a3-4152-bb58-cf5cb0b8748b"
      },
      "outputs": [
        {
          "data": {
            "text/plain": [
              "<matplotlib.legend.Legend at 0x7fd83f442a90>"
            ]
          },
          "execution_count": 105,
          "metadata": {},
          "output_type": "execute_result"
        },
        {
          "data": {
            "image/png": "[encoded data removed]",
            "text/plain": [
              "<Figure size 432x288 with 1 Axes>"
            ]
          },
          "metadata": {
            "needs_background": "light"
          },
          "output_type": "display_data"
        }
      ],
      "source": [
        "start = 0\n",
        "plt.plot(train_accuracy_values[start:], label='train')\n",
        "plt.plot(valid_accuracy_values[start:], label='valid')\n",
        "plt.legend()"
      ]
    },
    {
      "cell_type": "markdown",
      "metadata": {
        "id": "CSDJQcfEuDxv"
      },
      "source": [
        "Сохраним модель. Файл может иметь два расширения, как .pt, так и .pth. "
      ]
    },
    {
      "cell_type": "code",
      "execution_count": 106,
      "metadata": {
        "id": "bZseVomQuDxv"
      },
      "outputs": [],
      "source": [
        "torch.save(model, 'simple_nn.pth')"
      ]
    },
    {
      "cell_type": "markdown",
      "metadata": {
        "id": "Z_eIJ4pMuDxv"
      },
      "source": [
        "Теперь загрузим сохраненную модель и посмотрим на ее предсказания. Важно! Когда идет этап inference модели, то нужно явно вызвать `model.eval()`, так как в случае если есть droupout или batch norm, то они не дложны работать как в процессе обучения, иначе они продолжат обучаться. "
      ]
    },
    {
      "cell_type": "code",
      "execution_count": 107,
      "metadata": {
        "colab": {
          "base_uri": "https://localhost:8080/"
        },
        "id": "0-_mQNfZuDxv",
        "outputId": "6177ac39-716d-4a01-ed09-9d1191df4fa0"
      },
      "outputs": [
        {
          "data": {
            "text/plain": [
              "Sequential(\n",
              "  (0): Linear(in_features=37, out_features=25, bias=True)\n",
              "  (1): Sigmoid()\n",
              "  (2): Linear(in_features=25, out_features=25, bias=True)\n",
              "  (3): Sigmoid()\n",
              "  (4): Linear(in_features=25, out_features=4, bias=True)\n",
              "  (5): Softmax(dim=None)\n",
              ")"
            ]
          },
          "execution_count": 107,
          "metadata": {},
          "output_type": "execute_result"
        }
      ],
      "source": [
        "model = torch.load('simple_nn.pth')\n",
        "model.eval()"
      ]
    },
    {
      "cell_type": "code",
      "execution_count": 108,
      "metadata": {
        "colab": {
          "base_uri": "https://localhost:8080/"
        },
        "id": "ZNLXO4WtuDxv",
        "outputId": "359db49e-d740-4fb5-8277-a4e7e3be6ffc"
      },
      "outputs": [
        {
          "name": "stdout",
          "output_type": "stream",
          "text": [
            "0.4240553677082062\n",
            "[[5.4874557e-01 1.6370996e-07 1.7375233e-04 4.5108053e-01]\n",
            " [5.4874557e-01 1.6370996e-07 1.7375233e-04 4.5108053e-01]\n",
            " [5.4874557e-01 1.6370996e-07 1.7375233e-04 4.5108053e-01]\n",
            " ...\n",
            " [5.4874557e-01 1.6370996e-07 1.7375233e-04 4.5108050e-01]\n",
            " [5.4874557e-01 1.6370996e-07 1.7375233e-04 4.5108050e-01]\n",
            " [5.4874557e-01 1.6370996e-07 1.7375233e-04 4.5108050e-01]]\n"
          ]
        }
      ],
      "source": [
        "# Выход модели (вероятность) на тестовой выборке\n",
        "with torch.no_grad():\n",
        "    test_scores = model(torch.tensor(X_test.values.astype(np.float32)))\n",
        "print(accuracy(test_scores, torch.tensor(y_test.values.astype(np.int))).item())\n",
        "print(test_scores.numpy())"
      ]
    },
    {
      "cell_type": "code",
      "execution_count": 109,
      "metadata": {
        "colab": {
          "base_uri": "https://localhost:8080/"
        },
        "id": "AzRB1z5BWQqZ",
        "outputId": "63a3132e-8874-40cb-8c22-3db86e0baf41"
      },
      "outputs": [
        {
          "data": {
            "text/plain": [
              "2.3174941428381985"
            ]
          },
          "execution_count": 109,
          "metadata": {},
          "output_type": "execute_result"
        }
      ],
      "source": [
        "log_loss(y_test, test_scores.numpy())"
      ]
    },
    {
      "cell_type": "code",
      "execution_count": 111,
      "metadata": {
        "colab": {
          "base_uri": "https://localhost:8080/"
        },
        "id": "OEY6upg1uDxv",
        "outputId": "f336ee5e-ff42-426e-c50c-0a320004f538"
      },
      "outputs": [
        {
          "name": "stdout",
          "output_type": "stream",
          "text": [
            "tensor([0, 0, 0,  ..., 0, 0, 0])\n",
            "0.4241\n"
          ]
        }
      ],
      "source": [
        "# Предсказание классов на тестовой выборке\n",
        "with torch.no_grad():\n",
        "    test_scores = model(torch.tensor(X_test.values.astype(np.float32)))\n",
        "predicted_classes = torch.argmax(test_scores, dim=1)\n",
        "print(predicted_classes)\n",
        "print(round(accuracy_score(y_test, predicted_classes), 4))"
      ]
    },
    {
      "cell_type": "code",
      "execution_count": null,
      "metadata": {
        "id": "KpvNPs0trCPx"
      },
      "outputs": [],
      "source": []
    }
  ],
  "metadata": {
    "colab": {
      "collapsed_sections": [],
      "provenance": []
    },
    "kernelspec": {
      "display_name": ".venv",
      "language": "python",
      "name": "python3"
    },
    "language_info": {
      "codemirror_mode": {
        "name": "ipython",
        "version": 3
      },
      "file_extension": ".py",
      "mimetype": "text/x-python",
      "name": "python",
      "nbconvert_exporter": "python",
      "pygments_lexer": "ipython3",
      "version": "3.12.8"
    }
  },
  "nbformat": 4,
  "nbformat_minor": 0
}
