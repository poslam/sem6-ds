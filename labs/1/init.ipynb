{
 "cells": [
  {
   "cell_type": "markdown",
   "metadata": {},
   "source": [
    "# Описание ДЗ-1."
   ]
  },
  {
   "cell_type": "markdown",
   "metadata": {},
   "source": [
    "В первой домашке вы обучите свою первую нейронку.\n",
    "\n",
    "За дз можно получить максимум 10 баллов. **Домашки довольно творческие, если замечу копию нотбука у другого студента то максимальный балл сниижается до 3 )**\n",
    "\n",
    "Разбалловка:\n",
    "*   **Воспроизводимость и читабельность кода - 6 баллов** (все воспроизвелось и все понятно для проверяющего - 6 баллов; есть непонятные моменты, но все воспроизвелось - 4 балла; непонятный код и/или воспроизводится с небольшой правкой - 2 балл; непонятный код и/или ничего не воспроизвелось - 0 баллов).\n",
    "*   **Технический отчет - 4 балла** (приведены результаты сравнения и выводы что сделали чтоб перебить baseline\\другую модель, к примеру одна модель лучше/хуже нейронки и тд - 4 балла, только результаты - 2 балл, ничего нет - 0 баллов).\n",
    "\n",
    "\n",
    "Присылать домашки по ссылке https://forms.gle/W8jwbwA4EWagEbX66"
   ]
  },
  {
   "cell_type": "markdown",
   "metadata": {
    "id": "f6oHXHzRTbmj"
   },
   "source": [
    "# Первая нейросетка\n",
    "\n",
    "Ну что ж, пришло время построить свою первую нейронную сеть. У нас будет искуственная задачка и мы посмотрим на её примере, как работают различные алгоритмы машинного обучения."
   ]
  },
  {
   "cell_type": "code",
   "execution_count": null,
   "metadata": {
    "id": "krR35DdkTbmj"
   },
   "outputs": [],
   "source": [
    "import pandas as pd\n",
    "import numpy as np\n",
    "\n",
    "import matplotlib.pyplot as plt\n",
    "import seaborn as sns\n",
    "%matplotlib inline"
   ]
  },
  {
   "cell_type": "code",
   "execution_count": null,
   "metadata": {
    "id": "RKjcXPonTbmk"
   },
   "outputs": [],
   "source": [
    "df = pd.read_csv('data.csv',index_col=0)"
   ]
  },
  {
   "cell_type": "markdown",
   "metadata": {
    "id": "O3jumOmRTbmk"
   },
   "source": [
    "Как и в любой задаче машинного обучения для начала надо визуализировать данные. \n",
    "Не зря же нашу нейронную сеть мы так долго учим?\n"
   ]
  },
  {
   "cell_type": "code",
   "execution_count": null,
   "metadata": {
    "id": "JFPxXtsXTbmk"
   },
   "outputs": [],
   "source": [
    "plt.figure(figsize=(20, 10))\n",
    "sns.scatterplot(x=\"x1\", y=\"x2\", hue=\"y\", data = df)"
   ]
  },
  {
   "cell_type": "markdown",
   "metadata": {
    "id": "1Qs8ukmVTbml"
   },
   "source": [
    "После просмотра данных встает несколько вопросов:\n",
    " * 1) Можем ли мы построить идеальную модель ? (условная метрика точность)\n",
    " * 2) Что ещё мы хотим знать о выборке?\n",
    " * 3) Какие алгоритмы машинного обучения мы можем эффективно здесь использовать?"
   ]
  },
  {
   "cell_type": "markdown",
   "metadata": {
    "id": "MkjbrhIjTbml"
   },
   "source": [
    "После описательного анализа приступим к построению моделей. Для начала посмотрим, что нам даст Логистическая регрессия. "
   ]
  },
  {
   "cell_type": "code",
   "execution_count": null,
   "metadata": {
    "id": "8Zst6BPcTbml"
   },
   "outputs": [],
   "source": [
    "from sklearn.model_selection import train_test_split \n",
    "from sklearn.metrics import accuracy_score\n",
    "\n",
    "# разобьем выборку на трэйн/тест\n",
    "X_train, X_test, y_train, y_test = train_test_split(df[['x1','x2']], df['y'], test_size = 0.33)"
   ]
  },
  {
   "cell_type": "code",
   "execution_count": null,
   "metadata": {
    "id": "HKgvylK4Tbml"
   },
   "outputs": [],
   "source": [
    "from sklearn.linear_model import LogisticRegression\n",
    "\n",
    "\n",
    "#########################################\n",
    "# Ваш код для Логистической регрессии\n",
    "\n",
    "predict_logit =  # ...\n",
    "predict_log_proba = # ...\n",
    "\n",
    "#########################################\n",
    "\n",
    "\n",
    "print(f'Точность нашей модели {accuracy_score(predict_logit, y_test)}')\n",
    "\n",
    "# Заодно завизуализируем полученные результаты\n",
    "plt.figure(figsize=(20, 10))\n",
    "plt.scatter(X_test['x1'], X_test['x2'], c = predict_log_proba)\n",
    "plt.show()"
   ]
  },
  {
   "cell_type": "markdown",
   "metadata": {
    "id": "uFRmpkW_Tbmm"
   },
   "source": [
    "Вообще машинное обучение не только про алгоритмы (нейронные сети не исключение),\n",
    " а скорее про обработку данных. Что нам надо добавить, чтобы наш алгоритм отработал без проблем?"
   ]
  },
  {
   "cell_type": "code",
   "execution_count": null,
   "metadata": {
    "id": "5MKbVI7WTbmm"
   },
   "outputs": [],
   "source": [
    "# Повторяем наш код, только с новыми фичами - смотрим на магию\n",
    "df_new = df.copy()\n",
    "\n",
    "#########################################\n",
    "# ваш код для фичей и новой модели\n",
    "\n",
    "df_new['new_feature_1'] = # ...\n",
    "# df_new['new_feature_2'] = # ...\n",
    "\n",
    "X_train_new, X_test_new, y_train_new, y_test_new = train_test_split(df_new[['x1', 'x2', 'new_feature_1']],\n",
    "                                                                    df_new['y'], test_size = 0.33)\n",
    "\n",
    "predict_logit = # ...\n",
    "predict_log_proba = # ...\n",
    "\n",
    "#########################################\n",
    "\n",
    "print(f'Точность нашей модели {accuracy_score(predict_logit,y_test_new)}')\n",
    "\n",
    "plt.figure(figsize=(20, 10))\n",
    "plt.scatter(X_test_new['x1'], X_test_new['x2'], c = predict_log_proba)\n",
    "plt.show()"
   ]
  },
  {
   "cell_type": "markdown",
   "metadata": {
    "id": "zb3f6CBnTbmm"
   },
   "source": [
    "Переходим к следующиму классу алгоритмов - деревья решений. Какая особенность есть у деревьев? Какой параметр надо зафикисировать, чтобы эта особенность не испортила обучение? "
   ]
  },
  {
   "cell_type": "code",
   "execution_count": null,
   "metadata": {
    "id": "60n88B0STbmm"
   },
   "outputs": [],
   "source": [
    "from sklearn.tree import DecisionTreeClassifier\n",
    "\n",
    "#########################################\n",
    "# Ваш код\n",
    "\n",
    "predict_tree = # ...\n",
    "print(f'Точность нашей модели {accuracy_score(predict_tree, y_test)}')\n",
    "\n",
    "predict_tree_proba = # ...\n",
    "\n",
    "#########################################\n",
    "\n",
    "plt.figure(figsize=(20,10))\n",
    "plt.scatter(X_test['x1'], X_test['x2'], c = predict_tree_proba)\n",
    "plt.show()"
   ]
  },
  {
   "cell_type": "markdown",
   "metadata": {
    "id": "DUJxFdidTbmn"
   },
   "source": [
    "Поможет ли в данном случае ансамблирование? Когда в целом ансамбль дает хорошие результаты?"
   ]
  },
  {
   "cell_type": "code",
   "execution_count": null,
   "metadata": {
    "id": "6dNj2qQjTbmn"
   },
   "outputs": [],
   "source": [
    "from sklearn.ensemble import RandomForestClassifier\n",
    "\n",
    "#########################################\n",
    "# Ваш код\n",
    "\n",
    "predict_forest = # ...\n",
    "print(f'Точность нашей модели {accuracy_score(predict_forest, y_test)}')\n",
    "\n",
    "predict_forest_proba = # ...\n",
    "\n",
    "#########################################\n",
    "\n",
    "plt.figure(figsize=(20, 10))\n",
    "plt.scatter(X_test['x1'], X_test['x2'], c = predict_forest_proba)\n",
    "plt.show()"
   ]
  },
  {
   "cell_type": "markdown",
   "metadata": {
    "id": "9BCr-GR9Tbmn"
   },
   "source": [
    "ну и наконец мы добрались до нейронок - пора собрать нашу нейроночку под эту задачу.\n",
    "\n",
    "Соберем простенькую нейронку - (пример архитектуры - 2 слоя по 5 нейронов в каждом). Смотрим на тетрадку(семинар) и копипастим все нужное сюда!"
   ]
  },
  {
   "cell_type": "code",
   "execution_count": null,
   "metadata": {
    "id": "3A1KZB9CTbmn"
   },
   "outputs": [],
   "source": [
    "# Подгружаем понравившийся фраемворк \n",
    "# Собираем сетку\n",
    "# Учим и радуемся!"
   ]
  },
  {
   "cell_type": "code",
   "execution_count": null,
   "metadata": {
    "id": "lZKaI9bUTbmn"
   },
   "outputs": [],
   "source": [
    "#########################################\n",
    "# Ваш код\n",
    "\n",
    "predict_neural = # ...\n",
    "predict_classes = # ...\n",
    "\n",
    "print(f'Точность нашей модели {accuracy_score(predict_classes, y_test)}')\n",
    "#########################################\n",
    "\n",
    "plt.figure(figsize=(20, 10))\n",
    "plt.scatter(X_test['x1'], X_test['x2'], c = predict_neural)\n",
    "plt.show()"
   ]
  }
 ],
 "metadata": {
  "colab": {
   "collapsed_sections": [],
   "name": "HW_week01.ipynb",
   "provenance": []
  },
  "kernelspec": {
   "display_name": "Python 3",
   "language": "python",
   "name": "python3"
  },
  "language_info": {
   "codemirror_mode": {
    "name": "ipython",
    "version": 3
   },
   "file_extension": ".py",
   "mimetype": "text/x-python",
   "name": "python",
   "nbconvert_exporter": "python",
   "pygments_lexer": "ipython3",
   "version": "3.6.6"
  }
 },
 "nbformat": 4,
 "nbformat_minor": 0
}
